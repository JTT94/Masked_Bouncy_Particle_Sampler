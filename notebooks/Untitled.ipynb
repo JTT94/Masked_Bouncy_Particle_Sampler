{
 "cells": [
  {
   "cell_type": "code",
   "execution_count": 7,
   "id": "white-animation",
   "metadata": {},
   "outputs": [
    {
     "data": {
      "text/plain": [
       "'w'"
      ]
     },
     "execution_count": 7,
     "metadata": {},
     "output_type": "execute_result"
    }
   ],
   "source": [
    "'wodid'[:1]"
   ]
  },
  {
   "cell_type": "code",
   "execution_count": 24,
   "id": "interim-timber",
   "metadata": {},
   "outputs": [],
   "source": [
    "# Python program for insert and search \n",
    "# operation in a Trie \n",
    "\n",
    "class TrieNode: \n",
    "\n",
    "    # Trie node class \n",
    "    def __init__(self, word): \n",
    "        self.children = [None]*26\n",
    "\n",
    "        # isEndOfWord is True if node represent the end of the word \n",
    "        self.isEndOfWord = False\n",
    "        self.word = word\n",
    "\n",
    "class Trie: \n",
    "\n",
    "    # Trie data structure class \n",
    "    def __init__(self): \n",
    "        self.root = self.getNode('') \n",
    "\n",
    "    def getNode(self, word): \n",
    "\n",
    "        # Returns new trie node (initialized to NULLs) \n",
    "        return TrieNode(word) \n",
    "\n",
    "    def _charToIndex(self,ch): \n",
    "\n",
    "        # private helper function \n",
    "        # Converts key current character into index \n",
    "        # use only 'a' through 'z' and lower case \n",
    "\n",
    "        return ord(ch)-ord('a') \n",
    "\n",
    "\n",
    "    def insert(self,key): \n",
    "\n",
    "        # If not present, inserts key into trie \n",
    "        # If the key is prefix of trie node, \n",
    "        # just marks leaf node \n",
    "        pCrawl = self.root \n",
    "        length = len(key) \n",
    "        for level in range(length): \n",
    "            index = self._charToIndex(key[level]) \n",
    "\n",
    "            # if current character is not present \n",
    "            if not pCrawl.children[index]: \n",
    "                pCrawl.children[index] = self.getNode(key[:level+1]) \n",
    "            pCrawl = pCrawl.children[index] \n",
    "\n",
    "        # mark last node as leaf \n",
    "        pCrawl.isEndOfWord = True\n",
    "\n",
    "    def search(self, key): \n",
    "\n",
    "        # Search key in the trie \n",
    "        # Returns true if key presents \n",
    "        # in trie, else false \n",
    "        pCrawl = self.root \n",
    "        length = len(key) \n",
    "        for level in range(length): \n",
    "            index = self._charToIndex(key[level]) \n",
    "            if not pCrawl.children[index]: \n",
    "                return False\n",
    "            pCrawl = pCrawl.children[index] \n",
    "\n",
    "        return pCrawl != None and pCrawl.isEndOfWord \n",
    "    \n",
    "    def search_partial(self, key): \n",
    "\n",
    "        # Search key in the trie \n",
    "        # Returns true if key presents \n",
    "        # in trie, else false \n",
    "        pCrawl = self.root \n",
    "        length = len(key) \n",
    "        for level in range(length): \n",
    "            index = self._charToIndex(key[level]) \n",
    "            if not pCrawl.children[index]: \n",
    "                return False\n",
    "            pCrawl = pCrawl.children[index] \n",
    "            \n",
    "        return self.leaves(pCrawl)\n",
    "    \n",
    "    def leaves(self, node):\n",
    "        words = []\n",
    "        if node.isEndOfWord:\n",
    "            words.append(node.word)\n",
    "        for child in node.children:\n",
    "            if child is not None:\n",
    "                words = words + self.leaves(child)\n",
    "        return words\n",
    "            \n",
    "        \n",
    "            \n",
    "        "
   ]
  },
  {
   "cell_type": "code",
   "execution_count": 25,
   "id": "mighty-monroe",
   "metadata": {},
   "outputs": [
    {
     "name": "stdout",
     "output_type": "stream",
     "text": [
      "the ---- Present in trie\n",
      "these ---- Not present in trie\n",
      "their ---- Present in trie\n",
      "thaw ---- Not present in trie\n"
     ]
    }
   ],
   "source": [
    "\n",
    "# Input keys (use only 'a' through 'z' and lower case) \n",
    "keys = [\"the\",\"a\",\"there\",\"anaswe\",\"any\", \n",
    "        \"by\",\"their\"] \n",
    "output = [\"Not present in trie\", \n",
    "        \"Present in trie\"] \n",
    "\n",
    "# Trie object \n",
    "t = Trie() \n",
    "\n",
    "# Construct trie \n",
    "for key in keys: \n",
    "    t.insert(key) \n",
    "\n",
    "# Search for different keys \n",
    "print(\"{} ---- {}\".format(\"the\",output[t.search(\"the\")])) \n",
    "print(\"{} ---- {}\".format(\"these\",output[t.search(\"these\")])) \n",
    "print(\"{} ---- {}\".format(\"their\",output[t.search(\"their\")])) \n",
    "print(\"{} ---- {}\".format(\"thaw\",output[t.search(\"thaw\")])) \n",
    "\n"
   ]
  },
  {
   "cell_type": "code",
   "execution_count": 26,
   "id": "round-feature",
   "metadata": {},
   "outputs": [
    {
     "data": {
      "text/plain": [
       "['by']"
      ]
     },
     "execution_count": 26,
     "metadata": {},
     "output_type": "execute_result"
    }
   ],
   "source": [
    "t.search_partial('b')"
   ]
  },
  {
   "cell_type": "code",
   "execution_count": null,
   "id": "imperial-tower",
   "metadata": {},
   "outputs": [],
   "source": []
  },
  {
   "cell_type": "code",
   "execution_count": null,
   "id": "arbitrary-democrat",
   "metadata": {},
   "outputs": [],
   "source": []
  },
  {
   "cell_type": "code",
   "execution_count": null,
   "id": "touched-plasma",
   "metadata": {},
   "outputs": [],
   "source": [
    "    # Please write your code here.\n",
    "    \n",
    "    # get unique tags, retain order\n",
    "    tags = np.array(training_tags)\n",
    "    _, idx = np.unique(tags, return_index=True)\n",
    "    \n",
    "    # preserve order\n",
    "    u_tags = tags[np.sort(idx)]\n",
    "    \n",
    "    if tag in u_tags:\n",
    "        i = np.where(u_tags == tag)\n",
    "        i = int(i[0][0])+1\n",
    "    else:\n",
    "        i = 0"
   ]
  },
  {
   "cell_type": "code",
   "execution_count": null,
   "id": "armed-richards",
   "metadata": {},
   "outputs": [],
   "source": [
    "training_tags"
   ]
  },
  {
   "cell_type": "code",
   "execution_count": 92,
   "id": "stock-hostel",
   "metadata": {},
   "outputs": [],
   "source": [
    "tag = 'POP'\n",
    "training_tags = ['METAL','METAL','POP','ROCK']\n",
    "\n",
    "def solution(tag, training_tags):\n",
    "    u_tags = set(training_tags)\n",
    "    if tag in u_tags:\n",
    "        return sorted(list(u_tags)).index(tag)+1\n",
    "    else:\n",
    "        return 0\n",
    "    "
   ]
  },
  {
   "cell_type": "code",
   "execution_count": 95,
   "id": "injured-isolation",
   "metadata": {},
   "outputs": [
    {
     "data": {
      "text/plain": [
       "0"
      ]
     },
     "execution_count": 95,
     "metadata": {},
     "output_type": "execute_result"
    }
   ],
   "source": [
    "solution('P', training_tags)"
   ]
  },
  {
   "cell_type": "code",
   "execution_count": 96,
   "id": "swedish-brooklyn",
   "metadata": {},
   "outputs": [
    {
     "data": {
      "text/plain": [
       "['a', 'a', 'b']"
      ]
     },
     "execution_count": 96,
     "metadata": {},
     "output_type": "execute_result"
    }
   ],
   "source": [
    "sorted(['a','b','a'])"
   ]
  },
  {
   "cell_type": "code",
   "execution_count": 45,
   "id": "constant-thinking",
   "metadata": {},
   "outputs": [],
   "source": [
    "training_tags = []"
   ]
  },
  {
   "cell_type": "code",
   "execution_count": 49,
   "id": "sealed-athletics",
   "metadata": {},
   "outputs": [
    {
     "data": {
      "text/plain": [
       "['METAL', 'METAL', 'POP', 'ROCK']"
      ]
     },
     "execution_count": 49,
     "metadata": {},
     "output_type": "execute_result"
    }
   ],
   "source": [
    "sorted(training_tags)"
   ]
  },
  {
   "cell_type": "code",
   "execution_count": 40,
   "id": "independent-label",
   "metadata": {},
   "outputs": [],
   "source": [
    "import numpy as np"
   ]
  },
  {
   "cell_type": "code",
   "execution_count": 60,
   "id": "narrow-music",
   "metadata": {},
   "outputs": [
    {
     "name": "stdout",
     "output_type": "stream",
     "text": [
      "['METAL', 'METAL', 'POP', 'ROCK']\n",
      "[0 2 3]\n"
     ]
    }
   ],
   "source": [
    "print(training_tags)\n",
    "tags = np.array(training_tags)\n",
    "s, idx = np.unique(tags, return_index=True)\n",
    "print(idx)\n",
    "u_tags = tags[np.sort(idx)]\n",
    "i = np.where(u_tags == tag)"
   ]
  },
  {
   "cell_type": "code",
   "execution_count": 61,
   "id": "adaptive-external",
   "metadata": {},
   "outputs": [
    {
     "data": {
      "text/plain": [
       "array([0, 2, 3])"
      ]
     },
     "execution_count": 61,
     "metadata": {},
     "output_type": "execute_result"
    }
   ],
   "source": [
    "idx"
   ]
  },
  {
   "cell_type": "code",
   "execution_count": 43,
   "id": "cognitive-begin",
   "metadata": {},
   "outputs": [
    {
     "data": {
      "text/plain": [
       "(array([], dtype=int64),)"
      ]
     },
     "execution_count": 43,
     "metadata": {},
     "output_type": "execute_result"
    }
   ],
   "source": [
    "Tag indexer\n",
    "\n",
    "You're given a list of string tags (the \"training data\") and a query tag. The idea is to write a Python3 function to map the tag to an integer index based on the training data.\n",
    "\n",
    "The output integer should reflect the position of the input tag in the list of unique tags as sorted by Python (starting at 1). Unknown tags should be mapped to 0.\n",
    "\n",
    "You can use native Python or any of the packages available (see Info).\n",
    "\n",
    "You can look at some test cases for inspiration."
   ]
  },
  {
   "cell_type": "code",
   "execution_count": null,
   "id": "respiratory-azerbaijan",
   "metadata": {},
   "outputs": [],
   "source": [
    "Write a function in Python3 that takes two lists of integers and returns a string depending on the cosine similarity between the two lists (interpreted as vectors). Return the string \"True\" if the cosine similarity is greater 0, or the string \"False\" otherwise. If the lists are not compatible, return \"NA\".\n",
    "\n",
    "You can use native Python or any of the packages available (see Info).\n",
    "\n",
    "You can look at some test cases for inspiration."
   ]
  },
  {
   "cell_type": "code",
   "execution_count": 42,
   "id": "alert-advocacy",
   "metadata": {},
   "outputs": [
    {
     "ename": "IndexError",
     "evalue": "index 0 is out of bounds for axis 0 with size 0",
     "output_type": "error",
     "traceback": [
      "\u001b[0;31m---------------------------------------------------------------------------\u001b[0m",
      "\u001b[0;31mIndexError\u001b[0m                                Traceback (most recent call last)",
      "\u001b[0;32m<ipython-input-42-d7bb6f353a70>\u001b[0m in \u001b[0;36m<module>\u001b[0;34m\u001b[0m\n\u001b[0;32m----> 1\u001b[0;31m \u001b[0mint\u001b[0m\u001b[0;34m(\u001b[0m\u001b[0mi\u001b[0m\u001b[0;34m[\u001b[0m\u001b[0;36m0\u001b[0m\u001b[0;34m]\u001b[0m\u001b[0;34m[\u001b[0m\u001b[0;36m0\u001b[0m\u001b[0;34m]\u001b[0m\u001b[0;34m)\u001b[0m\u001b[0;34m\u001b[0m\u001b[0;34m\u001b[0m\u001b[0m\n\u001b[0m",
      "\u001b[0;31mIndexError\u001b[0m: index 0 is out of bounds for axis 0 with size 0"
     ]
    }
   ],
   "source": [
    "int(i[0][0])"
   ]
  },
  {
   "cell_type": "code",
   "execution_count": null,
   "id": "brilliant-aaron",
   "metadata": {},
   "outputs": [],
   "source": [
    "u_tags"
   ]
  },
  {
   "cell_type": "code",
   "execution_count": 31,
   "id": "greatest-calculation",
   "metadata": {},
   "outputs": [
    {
     "data": {
      "text/plain": [
       "array(['METAL', 'POP', 'ROCK'], dtype='<U5')"
      ]
     },
     "execution_count": 31,
     "metadata": {},
     "output_type": "execute_result"
    }
   ],
   "source": [
    "u_tags"
   ]
  },
  {
   "cell_type": "code",
   "execution_count": 51,
   "id": "aggressive-computer",
   "metadata": {},
   "outputs": [],
   "source": [
    "arr1 = np.random.randn(5)"
   ]
  },
  {
   "cell_type": "code",
   "execution_count": 58,
   "id": "continental-charge",
   "metadata": {},
   "outputs": [
    {
     "data": {
      "text/plain": [
       "array([[1, 2, 3],\n",
       "       [4, 5, 7]])"
      ]
     },
     "execution_count": 58,
     "metadata": {},
     "output_type": "execute_result"
    }
   ],
   "source": [
    "np.reshape([1,2,3,4,5,7], (2,3))"
   ]
  },
  {
   "cell_type": "code",
   "execution_count": 54,
   "id": "ruled-indiana",
   "metadata": {},
   "outputs": [
    {
     "data": {
      "text/plain": [
       "2.9189147909418582"
      ]
     },
     "execution_count": 54,
     "metadata": {},
     "output_type": "execute_result"
    }
   ],
   "source": [
    "np.linalg.norm(arr1)"
   ]
  },
  {
   "cell_type": "code",
   "execution_count": 56,
   "id": "hairy-retro",
   "metadata": {},
   "outputs": [
    {
     "data": {
      "text/plain": [
       "2.9189147909418582"
      ]
     },
     "execution_count": 56,
     "metadata": {},
     "output_type": "execute_result"
    }
   ],
   "source": [
    "arr1.dot(arr1)**0.5"
   ]
  },
  {
   "cell_type": "code",
   "execution_count": null,
   "id": "romantic-wednesday",
   "metadata": {},
   "outputs": [],
   "source": []
  },
  {
   "cell_type": "code",
   "execution_count": null,
   "id": "characteristic-heath",
   "metadata": {},
   "outputs": [],
   "source": []
  },
  {
   "cell_type": "code",
   "execution_count": null,
   "id": "municipal-bunny",
   "metadata": {},
   "outputs": [],
   "source": []
  },
  {
   "cell_type": "code",
   "execution_count": 73,
   "id": "sophisticated-management",
   "metadata": {},
   "outputs": [],
   "source": [
    "P = [5,7,3,87,67,104]\n",
    "U = 3\n",
    "n=0"
   ]
  },
  {
   "cell_type": "code",
   "execution_count": 74,
   "id": "pleasant-subdivision",
   "metadata": {},
   "outputs": [],
   "source": [
    "# Please write your code here.\n",
    "P = np.array(P)\n",
    "\n",
    "# find num items to reshape\n",
    "I = len(P)//U\n",
    "P_matrix = P.reshape(U, I)\n",
    "\n",
    "# sum across columns\n",
    "play_count = np.sum(P_matrix,0)\n",
    "\n",
    "# sort descending and get first n\n",
    "top_n = (-play_count).argsort()[:n]"
   ]
  },
  {
   "cell_type": "code",
   "execution_count": 75,
   "id": "diagnostic-corps",
   "metadata": {},
   "outputs": [
    {
     "data": {
      "text/plain": [
       "array([[  5,   7],\n",
       "       [  3,  87],\n",
       "       [ 67, 104]])"
      ]
     },
     "execution_count": 75,
     "metadata": {},
     "output_type": "execute_result"
    }
   ],
   "source": [
    "P_matrix"
   ]
  },
  {
   "cell_type": "code",
   "execution_count": 76,
   "id": "pointed-alberta",
   "metadata": {},
   "outputs": [
    {
     "data": {
      "text/plain": [
       "array([ 75, 198])"
      ]
     },
     "execution_count": 76,
     "metadata": {},
     "output_type": "execute_result"
    }
   ],
   "source": [
    "play_count"
   ]
  },
  {
   "cell_type": "code",
   "execution_count": 85,
   "id": "changed-income",
   "metadata": {},
   "outputs": [
    {
     "data": {
      "text/plain": [
       "[7, 23, 35]"
      ]
     },
     "execution_count": 85,
     "metadata": {},
     "output_type": "execute_result"
    }
   ],
   "source": [
    "a = [4, 3]\n",
    "b = [1, 1, 5, 5]\n",
    "\n",
    "len_a = len(a)\n",
    "len_b = len(b)\n",
    "\n",
    "n = min(len_a, len_b)\n",
    "a.reverse()\n",
    "\n",
    "def sumprod(x,y):\n",
    "    return sum(x_i*y_i for x_i, y_i in zip(x,y))\n",
    "\n",
    "diff = len_b-len_a\n",
    "\n",
    "[sumprod(a,b[i:i+len_a]) for i in range(diff+1)]"
   ]
  },
  {
   "cell_type": "code",
   "execution_count": 84,
   "id": "spanish-activation",
   "metadata": {},
   "outputs": [
    {
     "data": {
      "text/plain": [
       "2"
      ]
     },
     "execution_count": 84,
     "metadata": {},
     "output_type": "execute_result"
    }
   ],
   "source": [
    "diff"
   ]
  }
 ],
 "metadata": {
  "kernelspec": {
   "display_name": "Python 3",
   "language": "python",
   "name": "python3"
  },
  "language_info": {
   "codemirror_mode": {
    "name": "ipython",
    "version": 3
   },
   "file_extension": ".py",
   "mimetype": "text/x-python",
   "name": "python",
   "nbconvert_exporter": "python",
   "pygments_lexer": "ipython3",
   "version": "3.8.5"
  }
 },
 "nbformat": 4,
 "nbformat_minor": 5
}
