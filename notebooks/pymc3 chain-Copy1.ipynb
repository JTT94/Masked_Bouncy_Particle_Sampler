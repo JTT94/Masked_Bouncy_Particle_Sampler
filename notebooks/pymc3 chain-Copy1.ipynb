{
 "cells": [
  {
   "cell_type": "code",
   "execution_count": 1,
   "id": "valuable-reply",
   "metadata": {},
   "outputs": [
    {
     "name": "stderr",
     "output_type": "stream",
     "text": [
      "WARNING (theano.configdefaults): g++ not detected ! Theano will be unable to execute optimized C-implementations (for both CPU and GPU) and will default to Python implementations. Performance will be severely degraded. To remove this warning, set Theano flags cxx to an empty string.\n",
      "WARNING (theano.tensor.blas): Using NumPy C-API based implementation for BLAS functions.\n"
     ]
    }
   ],
   "source": [
    "import warnings\n",
    "\n",
    "import arviz as az\n",
    "import matplotlib.pyplot as plt\n",
    "import numpy as np\n",
    "import pymc3 as pm\n",
    "import theano.tensor as tt\n",
    "import time\n",
    "warnings.simplefilter(action=\"ignore\", category=FutureWarning)\n",
    "import os, sys\n",
    "sys.path.append('../')\n",
    "from src.utils.params import hash_dict\n",
    "from src.utils.serialize import pickle_obj, unpickle_obj, load_json, save_json"
   ]
  },
  {
   "cell_type": "code",
   "execution_count": 2,
   "id": "musical-drive",
   "metadata": {},
   "outputs": [],
   "source": [
    "def logistic(x):\n",
    "    return 1/(1+np.exp(-x))"
   ]
  },
  {
   "cell_type": "code",
   "execution_count": null,
   "id": "constitutional-freight",
   "metadata": {},
   "outputs": [
    {
     "name": "stdout",
     "output_type": "stream",
     "text": [
      "{'d': 10, 'T': 10, 'seed': 123, 'method': 'nuts'}\n",
      "{'d': 10, 'T': 25, 'seed': 123, 'method': 'nuts'}\n",
      "{'d': 10, 'T': 50, 'seed': 123, 'method': 'nuts'}\n"
     ]
    },
    {
     "name": "stderr",
     "output_type": "stream",
     "text": [
      "Auto-assigning NUTS sampler...\n",
      "Initializing NUTS using jitter+adapt_diag...\n",
      "/home/james/miniconda3/envs/bps/lib/python3.8/site-packages/theano/tensor/elemwise.py:826: RuntimeWarning: divide by zero encountered in log\n",
      "  variables = ufunc(*ufunc_args, **ufunc_kwargs)\n",
      "/home/james/miniconda3/envs/bps/lib/python3.8/site-packages/theano/tensor/elemwise.py:826: RuntimeWarning: invalid value encountered in multiply\n",
      "  variables = ufunc(*ufunc_args, **ufunc_kwargs)\n",
      "Sequential sampling (1 chains in 1 job)\n",
      "NUTS: [b_50, b_49, b_48, b_47, b_46, b_45, b_44, b_43, b_42, b_41, b_40, b_39, b_38, b_37, b_36, b_35, b_34, b_33, b_32, b_31, b_30, b_29, b_28, b_27, b_26, b_25, b_24, b_23, b_22, b_21, b_20, b_19, b_18, b_17, b_16, b_15, b_14, b_13, b_12, b_11, b_10, b_9, b_8, b_7, b_6, b_5, b_4, b_3, b_2, b_1, beta]\n"
     ]
    },
    {
     "data": {
      "text/html": [
       "\n",
       "    <div>\n",
       "        <style>\n",
       "            /* Turns off some styling */\n",
       "            progress {\n",
       "                /* gets rid of default border in Firefox and Opera. */\n",
       "                border: none;\n",
       "                /* Needs to be in here for Safari polyfill so background images work as expected. */\n",
       "                background-size: auto;\n",
       "            }\n",
       "            .progress-bar-interrupted, .progress-bar-interrupted::-webkit-progress-bar {\n",
       "                background: #F44336;\n",
       "            }\n",
       "        </style>\n",
       "      <progress value='412' class='' max='1000' style='width:300px; height:20px; vertical-align: middle;'></progress>\n",
       "      41.20% [412/1000 43:27<1:02:01 Sampling chain 0, 0 divergences]\n",
       "    </div>\n",
       "    "
      ],
      "text/plain": [
       "<IPython.core.display.HTML object>"
      ]
     },
     "metadata": {},
     "output_type": "display_data"
    }
   ],
   "source": [
    "output_dir = '.'\n",
    "num_chains = 1\n",
    "nsim = 500\n",
    "\n",
    "for d in [10, 25, 50, 100]:\n",
    "    for T in [10, 25, 50, 75, 100, 150]:\n",
    "        for method in ['nuts']:\n",
    "\n",
    "            params = {\n",
    "                'd' : d,\n",
    "                'T' : T,\n",
    "                'seed': 123,\n",
    "                'method': method\n",
    "            }\n",
    "            print(params)\n",
    "            seed = params['seed']\n",
    "\n",
    "            # run masked bps\n",
    "            model_output_dir = os.path.join(output_dir)\n",
    "\n",
    "            if not os.path.exists(model_output_dir):\n",
    "                    os.mkdir(model_output_dir)\n",
    "\n",
    "            ## set up output dir\n",
    "            param_hash = hash_dict(params)\n",
    "            dir_name = \"experiment_{0}\".format(param_hash)\n",
    "            dir_path = os.path.join(model_output_dir, dir_name)\n",
    "            if not os.path.exists(dir_path):\n",
    "                os.mkdir(dir_path)\n",
    "            \n",
    "            mu0 = np.array([0. for _ in range(d)])\n",
    "            sig0 = np.diag([1. for _ in range(d)])\n",
    "            \n",
    "            if 'results.pkl' not in os.listdir(dir_path):\n",
    "                nodes = {}\n",
    "                with pm.Model() as first_model:\n",
    "                    #priors on parameters\n",
    "                    nodes[0] = pm.MvNormal('beta', mu=mu0, cov=sig0, shape=(d,))\n",
    "                    for t in range(1,T+1):\n",
    "                        nodes[t] = pm.MvNormal('b_{0}'.format(t), mu=nodes[t-1], cov=sig0,shape=(d,))\n",
    "                        \n",
    "                start = time.time()\n",
    "                with first_model:    \n",
    "                    #samples from posterior distribution \n",
    "                    trace=pm.sample(nsim, tune=500, cores=num_chains, chains=num_chains, compute_convergence_checks=False)\n",
    "                duration = time.time()-start\n",
    "                \n",
    "                df = az.summary(trace, round_to=5)\n",
    "                ess_speed = np.mean(df['ess_bulk']/duration/num_chains) * (nsim+500)/nsim\n",
    "                results = {\n",
    "                    \"ess_speed\" : ess_speed.item(),\n",
    "                    'T' : T,\n",
    "                    'd' : d\n",
    "                }\n",
    "                pickle_obj(results, os.path.join(dir_path, 'results.pkl'))\n"
   ]
  },
  {
   "cell_type": "code",
   "execution_count": null,
   "id": "noted-mouse",
   "metadata": {},
   "outputs": [],
   "source": [
    "pickle_obj(results, os.path.join(dir_path, 'results.pkl'))"
   ]
  },
  {
   "cell_type": "code",
   "execution_count": null,
   "id": "metallic-horse",
   "metadata": {},
   "outputs": [],
   "source": [
    "results"
   ]
  }
 ],
 "metadata": {
  "kernelspec": {
   "display_name": "Python 3",
   "language": "python",
   "name": "python3"
  },
  "language_info": {
   "codemirror_mode": {
    "name": "ipython",
    "version": 3
   },
   "file_extension": ".py",
   "mimetype": "text/x-python",
   "name": "python",
   "nbconvert_exporter": "python",
   "pygments_lexer": "ipython3",
   "version": "3.8.5"
  }
 },
 "nbformat": 4,
 "nbformat_minor": 5
}
