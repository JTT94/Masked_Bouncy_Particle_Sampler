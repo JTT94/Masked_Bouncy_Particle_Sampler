{
 "cells": [
  {
   "cell_type": "code",
   "execution_count": 1,
   "metadata": {},
   "outputs": [],
   "source": [
    "from statsmodels.stats.outliers_influence import variance_inflation_factor"
   ]
  },
  {
   "cell_type": "code",
   "execution_count": 30,
   "metadata": {},
   "outputs": [],
   "source": [
    "import numpy as np\n",
    "\n",
    "import pandas as pd\n",
    "import sys, os, time\n",
    "from scipy.stats import norm\n",
    "import matplotlib.pyplot as plt\n",
    "\n",
    "%matplotlib inline\n",
    "\n",
    "sys.path.append('../')\n",
    "\n",
    "from src.data_structures import FactorGraph, PriorityQueue\n",
    "from src.sampling_algorithms.event_time_samplers import gaussian_bounce, chain_bounce_fn\n",
    "from src.utils import gaussian_grad_potential_fn, gaussian_chain_grad_potential_fn, interp, get_xtv, get_first_moment, get_second_moment, get_var\n",
    "from src.sampling_algorithms import LocalBPS\n",
    "from src.plots.arrow_plot import arrow_plot\n",
    "\n",
    "from arviz.stats import ess\n",
    "\n",
    "from matplotlib import rc\n",
    "rc('text', usetex=False)"
   ]
  },
  {
   "cell_type": "code",
   "execution_count": 337,
   "metadata": {},
   "outputs": [],
   "source": [
    "d = 2\n",
    "groups = 10\n",
    "N = 100\n",
    "\n",
    "def logistic(x):\n",
    "    return 1/(1+np.exp(-x))\n",
    "\n",
    "beta0 = np.random.randn(d)\n",
    "betas = []\n",
    "observations = []\n",
    "covs = []\n",
    "\n",
    "for g in range(groups):\n",
    "    beta = beta0 + 2.*np.random.randn(d)\n",
    "    betas.append(beta)\n",
    "    \n",
    "    cov = np.random.rand(d*N).reshape(N,d)*2.-1.\n",
    "    covs.append(cov)\n",
    "    p = logistic(cov.dot(beta))\n",
    "    y = (np.random.random(len(p)) < p)+0.\n",
    "    observations.append(y)"
   ]
  },
  {
   "cell_type": "code",
   "execution_count": 14,
   "metadata": {},
   "outputs": [],
   "source": [
    "covs = np.array(covs)\n",
    "observations = np.array(observations)"
   ]
  },
  {
   "cell_type": "code",
   "execution_count": null,
   "metadata": {},
   "outputs": [],
   "source": [
    "cov_p = np.maximum(0., covs)\n",
    "cov_n = -np.minimum(0., covs)\n",
    "sign = np.expand_dims((-1.)**(observations), -1)\n",
    "\n",
    "inds = [[d + d*i +j for j in range(d)] for i in range(groups)]\n",
    "\n",
    "ind = inds[i]\n",
    "\n",
    "v = init_v[ind]\n",
    "x = init_x[ind]\n",
    "\n",
    "def alias_sample(i, cov_n, cov_p, sign):\n",
    "    s = sign[i]\n",
    "    cp = cov_p[i]\n",
    "    cn = cov_n[i]\n",
    "    \n",
    "    def bounce_fn(x,v):\n",
    "        pos = (v*s)>=0\n",
    "        neg = (v*s)<0\n",
    "        ms = np.abs(v) * (pos*cp + neg*cn)\n",
    "        m_i = np.sum(ms,0)\n",
    "        m = np.sum(m_i)\n",
    "\n",
    "        p = m_i/m\n",
    "\n",
    "        k, = np.random.multinomial(1,p, size=1).ravel().nonzero()\n",
    "        p = ms[:,k].flatten() / m_i[k]\n",
    "        r, = np.random.multinomial(1,p, size=1).ravel().nonzero()\n",
    "        \n",
    "        u = np.random.rand()\n",
    "        t = -np.log(u)/m\n",
    "\n",
    "        if np.random.rand() < lambda_r(v,x,t,covs[i,r], y[r])/m:\n",
    "            token = 'B'\n",
    "        else:\n",
    "            token = 'NB'\n",
    "        return t, token\n",
    "    return bounce_fn"
   ]
  },
  {
   "cell_type": "code",
   "execution_count": null,
   "metadata": {},
   "outputs": [],
   "source": [
    "lambda_r(v,x,t,covariates, y)"
   ]
  },
  {
   "cell_type": "code",
   "execution_count": 285,
   "metadata": {},
   "outputs": [
    {
     "ename": "ValueError",
     "evalue": "operands could not be broadcast together with shapes (10,100,2) (10,2) ",
     "output_type": "error",
     "traceback": [
      "\u001b[0;31m---------------------------------------------------------------------------\u001b[0m",
      "\u001b[0;31mValueError\u001b[0m                                Traceback (most recent call last)",
      "\u001b[0;32m<ipython-input-285-f147da5be874>\u001b[0m in \u001b[0;36m<module>\u001b[0;34m\u001b[0m\n\u001b[1;32m      3\u001b[0m \u001b[0marr2\u001b[0m \u001b[0;34m=\u001b[0m \u001b[0mcov_p\u001b[0m\u001b[0;34m*\u001b[0m\u001b[0;34m(\u001b[0m\u001b[0mobs_expand\u001b[0m\u001b[0;34m==\u001b[0m\u001b[0;36m0\u001b[0m\u001b[0;34m)\u001b[0m \u001b[0;34m+\u001b[0m \u001b[0mcov_n\u001b[0m\u001b[0;34m*\u001b[0m\u001b[0;34m(\u001b[0m\u001b[0mobs_expand\u001b[0m\u001b[0;34m==\u001b[0m\u001b[0;36m1\u001b[0m\u001b[0;34m)\u001b[0m\u001b[0;34m\u001b[0m\u001b[0;34m\u001b[0m\u001b[0m\n\u001b[1;32m      4\u001b[0m \u001b[0;34m\u001b[0m\u001b[0m\n\u001b[0;32m----> 5\u001b[0;31m \u001b[0mm_t\u001b[0m \u001b[0;34m=\u001b[0m \u001b[0mnp\u001b[0m\u001b[0;34m.\u001b[0m\u001b[0msum\u001b[0m\u001b[0;34m(\u001b[0m\u001b[0marr2\u001b[0m\u001b[0;34m*\u001b[0m\u001b[0mnp\u001b[0m\u001b[0;34m.\u001b[0m\u001b[0mabs\u001b[0m\u001b[0;34m(\u001b[0m\u001b[0mv\u001b[0m\u001b[0;34m)\u001b[0m\u001b[0;34m,\u001b[0m \u001b[0;36m1\u001b[0m\u001b[0;34m)\u001b[0m\u001b[0;34m\u001b[0m\u001b[0;34m\u001b[0m\u001b[0m\n\u001b[0m\u001b[1;32m      6\u001b[0m \u001b[0mM_t\u001b[0m \u001b[0;34m=\u001b[0m \u001b[0mnp\u001b[0m\u001b[0;34m.\u001b[0m\u001b[0msum\u001b[0m\u001b[0;34m(\u001b[0m\u001b[0mm_t\u001b[0m\u001b[0;34m,\u001b[0m \u001b[0;36m1\u001b[0m\u001b[0;34m,\u001b[0m \u001b[0mkeepdims\u001b[0m\u001b[0;34m=\u001b[0m\u001b[0;32mTrue\u001b[0m\u001b[0;34m)\u001b[0m\u001b[0;34m\u001b[0m\u001b[0;34m\u001b[0m\u001b[0m\n\u001b[1;32m      7\u001b[0m \u001b[0;34m\u001b[0m\u001b[0m\n",
      "\u001b[0;31mValueError\u001b[0m: operands could not be broadcast together with shapes (10,100,2) (10,2) "
     ]
    }
   ],
   "source": [
    "obs_expand = np.expand_dims(observations, -1)\n",
    "arr1 = cov_p*(obs_expand==1) + cov_n*(obs_expand==0) \n",
    "arr2 = cov_p*(obs_expand==0) + cov_n*(obs_expand==1) \n",
    "\n",
    "m_t = np.sum(arr2*np.abs(v), 1)\n",
    "M_t = np.sum(m_t, 1, keepdims=True)\n",
    "\n",
    "m_t/M_t"
   ]
  },
  {
   "cell_type": "code",
   "execution_count": 111,
   "metadata": {},
   "outputs": [
    {
     "data": {
      "text/plain": [
       "array([[0.99469508, 0.00530492],\n",
       "       [0.51583856, 0.48416144],\n",
       "       [0.56191792, 0.43808208],\n",
       "       [0.72289314, 0.27710686],\n",
       "       [0.03203691, 0.96796309],\n",
       "       [0.69026341, 0.30973659],\n",
       "       [0.41853059, 0.58146941],\n",
       "       [0.63270338, 0.36729662],\n",
       "       [0.93840284, 0.06159716],\n",
       "       [0.77463528, 0.22536472]])"
      ]
     },
     "execution_count": 111,
     "metadata": {},
     "output_type": "execute_result"
    }
   ],
   "source": [
    "m_t = np.sum(arr1*np.abs(v), 1)\n",
    "M_t = np.sum(m_t, 1, keepdims=True)\n",
    "\n",
    "m_t/M_t"
   ]
  },
  {
   "cell_type": "code",
   "execution_count": 108,
   "metadata": {},
   "outputs": [],
   "source": []
  },
  {
   "cell_type": "code",
   "execution_count": 216,
   "metadata": {},
   "outputs": [],
   "source": [
    "def lambda_r(v,x,t,covariates, y):\n",
    "    e = np.exp(covariates.dot(x))\n",
    "    return np.maximum(0.,(covariates*(e/(1+e)-y)).dot(v))\n",
    "\n",
    "def lambda_bound(v):\n",
    "    return np.sum(np.abs(v))\n",
    "\n",
    "def grad_logistic(covariates, obs):\n",
    "    def grad_fn(x):\n",
    "        e = np.exp(covariates.dot(x)).reshape(N,1)\n",
    "        y = obs.reshape(N,1)\n",
    "        return (covariates*e/(1+e)-y).sum(0)\n",
    "    return grad_fn\n",
    "\n",
    "covariates = covs[0]\n",
    "y = observations[0]\n",
    "\n",
    "\n",
    "\n",
    "def generate_logistic_bounce(covariates, y, limit=100, debug=False):\n",
    "    def logistic_bounce(x,v):\n",
    "        accepted = False\n",
    "        count = 0\n",
    "        while not accepted:\n",
    "            count += 1\n",
    "            lambda_sim = lambda_bound(v)\n",
    "            u1 = np.random.rand()\n",
    "            u2 = np.random.rand()\n",
    "            t = -np.log(u1)/lambda_sim\n",
    "            acc = lambda_r(v,x,t, covariates, y)/lambda_sim\n",
    "            if debug:\n",
    "                print(acc)\n",
    "            if u2 < acc:\n",
    "                accepted = True\n",
    "            if count > limit:\n",
    "                return float('inf')\n",
    "        return t\n",
    "    return logistic_bounce\n",
    "\n",
    "def aggregate_bounce(bounce_fns):\n",
    "    def bounce_fn(x,v):\n",
    "        return np.min([fn(x,v) for fn in bounce_fns])\n",
    "    return bounce_fn"
   ]
  },
  {
   "cell_type": "code",
   "execution_count": 43,
   "metadata": {},
   "outputs": [
    {
     "name": "stderr",
     "output_type": "stream",
     "text": [
      "<ipython-input-43-81f387d451b6>:36: VisibleDeprecationWarning: Creating an ndarray from ragged nested sequences (which is a list-or-tuple of lists-or-tuples-or ndarrays with different lengths or shapes) is deprecated. If you meant to do this, you must specify 'dtype=object' when creating the ndarray.\n",
      "  factor_indices = np.array([[i for i in range(d)]] + \\\n"
     ]
    }
   ],
   "source": [
    "mu0 = np.array([0. for _ in range(d)])\n",
    "sig0 = np.diag([1. for _ in range(d)])\n",
    "mu1 = np.array([0. for _ in range(d)])\n",
    "mu2 = np.array([0.])\n",
    "sig1 = np.diag([1. for _ in range(d)])\n",
    "sig2 = np.array([[1.]])\n",
    "sig12 = np.array([[0.5] for _ in range(d)])\n",
    "\n",
    "global_event_samplers = []\n",
    "local_event_samplers = []\n",
    "\n",
    "for g in range(groups):\n",
    "    global_event_samplers.append(chain_bounce_fn(mu1, mu2, sig1, sig2, sig12))\n",
    "    covariates = covs[g]\n",
    "    y = observations[g]\n",
    "    bounce_fns = [generate_logistic_bounce(covariates[r], y[r]) for r in range(N)]\n",
    "    bounce_fn = aggregate_bounce(bounce_fns)\n",
    "    local_event_samplers.append(bounce_fn)\n",
    "\n",
    "bounce_fns = [gaussian_bounce(mu0, sig0)] + global_event_samplers + local_event_samplers\n",
    "\n",
    "grad_factor_potential_fns = [gaussian_grad_potential_fn(mu0, sig0)] + \\\n",
    "[gaussian_chain_grad_potential_fn(mu1, mu2, sig1, sig12, sig2) for _ in range(groups)] + \\\n",
    "[grad_logistic(covs[g], observations[g]) for g in range(groups)]\n",
    "\n",
    "\n",
    "inv_sig2 = np.linalg.pinv(sig2)\n",
    "transform = np.dot(sig12, inv_sig2)\n",
    "sig_bar = sig1 - np.dot(transform, sig12.T)\n",
    "inv_sig = np.linalg.inv(sig_bar)\n",
    "dim_x1 = len(mu1)\n",
    "mu = np.concatenate([mu1, mu2], 0)\n",
    "t2 = np.concatenate([-transform, np.diag(np.repeat(1., dim_x1))], 1)\n",
    "\n",
    "\n",
    "factor_indices = np.array([[i for i in range(d)]] + \\\n",
    "                 [[0]+[d + d*i +j for j in range(d)] for i in range(groups)] + \\\n",
    "                 [[d + d*i +j for j in range(d)] for i in range(groups)] )\n",
    "\n",
    "factor_potential_fns = [lambda x: x for _ in grad_factor_potential_fns]\n",
    "\n",
    "nodes = list(set(n for f in factor_indices for n in f ))\n",
    "\n",
    "\n",
    "graph = FactorGraph(dim_x=len(nodes),\n",
    "                          factor_indices=factor_indices,\n",
    "                          factor_potential_fns=factor_potential_fns,\n",
    "                          grad_factor_potential_fns=grad_factor_potential_fns)"
   ]
  },
  {
   "cell_type": "code",
   "execution_count": null,
   "metadata": {},
   "outputs": [],
   "source": []
  },
  {
   "cell_type": "code",
   "execution_count": 44,
   "metadata": {},
   "outputs": [],
   "source": [
    "init_x = np.random.randn(len(nodes))\n",
    "init_v = np.random.randn(len(nodes))\n",
    "local_bps = LocalBPS(init_x = init_x,\n",
    "         init_v = init_v,\n",
    "         factor_graph = graph,\n",
    "         bounce_fns=bounce_fns,\n",
    "         refresh_rate=0.1)"
   ]
  },
  {
   "cell_type": "code",
   "execution_count": null,
   "metadata": {},
   "outputs": [],
   "source": [
    "plt.plot(np.random.randn(len(nodes)))\n",
    "plt.plot(init_x)\n",
    "\n",
    "start = time.time()\n",
    "nsim= 5*10**4\n",
    "results = local_bps.simulate(nsim)\n",
    "res = results\n",
    "print(time.time()-start)"
   ]
  },
  {
   "cell_type": "code",
   "execution_count": null,
   "metadata": {},
   "outputs": [],
   "source": []
  },
  {
   "cell_type": "code",
   "execution_count": null,
   "metadata": {},
   "outputs": [],
   "source": []
  },
  {
   "cell_type": "code",
   "execution_count": null,
   "metadata": {},
   "outputs": [],
   "source": [
    "betas_flat = np.array(betas).flatten()\n",
    "for i in range(groups+1):\n",
    "    x1,v1,t1=get_xtv(res,i)\n",
    "    if i < d:\n",
    "        beta = beta0[i]\n",
    "    else:\n",
    "        beta = betas_flat[i-1]\n",
    "    print('Beta {0}: {1}'.format(i, beta))\n",
    "    print(get_first_moment(x1, v1, t1))"
   ]
  },
  {
   "cell_type": "code",
   "execution_count": null,
   "metadata": {},
   "outputs": [],
   "source": []
  },
  {
   "cell_type": "code",
   "execution_count": null,
   "metadata": {},
   "outputs": [],
   "source": []
  },
  {
   "cell_type": "code",
   "execution_count": null,
   "metadata": {},
   "outputs": [],
   "source": [
    "x1,v1,t1=get_xtv(res,0)\n",
    "x2,v2,t2=get_xtv(res,1)"
   ]
  },
  {
   "cell_type": "code",
   "execution_count": null,
   "metadata": {},
   "outputs": [],
   "source": []
  },
  {
   "cell_type": "code",
   "execution_count": null,
   "metadata": {},
   "outputs": [],
   "source": [
    "burnin = 0\n",
    "plot_limit = 10000\n",
    "fig_size = (10,10)\n",
    "plt.rcParams[\"axes.edgecolor\"] = \"0.15\"\n",
    "plt.rcParams[\"axes.linewidth\"]  = 1.25\n",
    "\n",
    "font = {\n",
    "        'weight' : 'bold',\n",
    "        'size'   : 22}\n",
    "\n",
    "plt.rc('font', **font)\n",
    "\n",
    "\n",
    "fig = plt.figure(figsize=fig_size,frameon =True)\n",
    "left, bottom, width, height = 0.1, 0.1, 0.8, 0.8\n",
    "ax = fig.add_axes([left, bottom, width, height])\n",
    "ax.set_title(\"Local BPS\")\n",
    "ax.set_xlabel(\"$x_1$\",fontsize='large', fontweight='bold')\n",
    "ax.set_ylabel(\"$x_2$\",fontsize='large', fontweight='bold')\n",
    "arrow_plot(x1[burnin:burnin+plot_limit],x2[burnin:burnin+plot_limit], head_length=0.01,head_width=0.01)\n",
    "fig.savefig('./local_bps.eps', format='eps', dpi=1200)\n",
    "\n"
   ]
  },
  {
   "cell_type": "code",
   "execution_count": null,
   "metadata": {},
   "outputs": [],
   "source": []
  },
  {
   "cell_type": "code",
   "execution_count": null,
   "metadata": {},
   "outputs": [],
   "source": [
    "x1[0], x2[0]"
   ]
  },
  {
   "cell_type": "code",
   "execution_count": null,
   "metadata": {},
   "outputs": [],
   "source": [
    "x1[-1], x2[-1]"
   ]
  },
  {
   "cell_type": "code",
   "execution_count": null,
   "metadata": {},
   "outputs": [],
   "source": [
    "beta0"
   ]
  },
  {
   "cell_type": "code",
   "execution_count": null,
   "metadata": {},
   "outputs": [],
   "source": [
    "betas"
   ]
  }
 ],
 "metadata": {
  "kernelspec": {
   "display_name": "Python 3",
   "language": "python",
   "name": "python3"
  },
  "language_info": {
   "codemirror_mode": {
    "name": "ipython",
    "version": 3
   },
   "file_extension": ".py",
   "mimetype": "text/x-python",
   "name": "python",
   "nbconvert_exporter": "python",
   "pygments_lexer": "ipython3",
   "version": "3.8.5"
  }
 },
 "nbformat": 4,
 "nbformat_minor": 2
}
