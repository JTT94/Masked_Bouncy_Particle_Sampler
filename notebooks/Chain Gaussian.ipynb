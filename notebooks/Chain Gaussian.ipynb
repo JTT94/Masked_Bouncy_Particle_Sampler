{
 "cells": [
  {
   "cell_type": "code",
   "execution_count": 1,
   "metadata": {},
   "outputs": [],
   "source": [
    "import numpy as np\n",
    "\n",
    "import pandas as pd\n",
    "import sys, os, time\n",
    "from scipy.stats import norm\n",
    "import matplotlib.pyplot as plt\n",
    "\n",
    "%matplotlib inline\n",
    "\n",
    "sys.path.append('../')\n",
    "\n",
    "from src.data_structures import FactorGraph, PriorityQueue\n",
    "from src.sampling_algorithms.factor_components import (gaussian_bounce, chain_bounce_fn, \n",
    "                                                       gaussian_grad_potential_fn, \n",
    "                                                       gaussian_chain_grad_potential_fn,\n",
    "                                                       logistic, \n",
    "                                                       generate_logistic_bounce, \n",
    "                                                       alias_sample, \n",
    "                                                       lambda_r, \n",
    "                                                       grad_logistic, \n",
    "                                                       lambda_bound\n",
    "                                                      )\n",
    "from src.utils import (interp, get_xtv, get_first_moment, get_second_moment, get_var)\n",
    "from src.sampling_algorithms import LocalBPS\n",
    "from src.plots.arrow_plot import arrow_plot\n",
    "from arviz.stats import ess\n",
    "\n",
    "from matplotlib import rc\n",
    "rc('text', usetex=False)"
   ]
  },
  {
   "cell_type": "code",
   "execution_count": 2,
   "metadata": {},
   "outputs": [],
   "source": [
    "np.random.seed(0)\n",
    "d = 2\n",
    "T = 5\n",
    "N = 100\n",
    "alpha = 0.5"
   ]
  },
  {
   "cell_type": "code",
   "execution_count": 3,
   "metadata": {},
   "outputs": [],
   "source": [
    "mu0 = np.array([0. for _ in range(d)])\n",
    "sig0 = np.diag([1. for _ in range(d)])\n",
    "mu1 = np.array([0. for _ in range(d)])\n",
    "sig1 = sig0 + sig0\n",
    "sig10 = sig0\n",
    "\n",
    "mus = [np.array([0. for _ in range(d)]) for _ in range(T-1)]\n",
    "sigs = []     \n",
    "event_samplers = []\n",
    "grad_fns = []\n",
    "\n",
    "for t in range(T):\n",
    "    if t == 0:\n",
    "        sigs.append(2*sig0)\n",
    "        event_samplers.append(chain_bounce_fn(mu1, mu0, sig1, sig0, sig10))\n",
    "        grad_fns.append(gaussian_chain_grad_potential_fn(mu1, mu0, sig1, sig10, sig0))\n",
    "    else:\n",
    "        sigs.append(sigs[t-1]+sig0)\n",
    "        event_samplers.append(chain_bounce_fn(mu1, mu0, sigs[t], sigs[t-1], sigs[t-1]))\n",
    "        grad_fns.append(gaussian_chain_grad_potential_fn(mu1, mu0, sigs[t], sigs[t-1], sigs[t-1]))\n",
    "    \n",
    "bounce_fns = [gaussian_bounce(mu0, sig0)] + event_samplers\n",
    "\n",
    "grad_factor_potential_fns = [gaussian_grad_potential_fn(mu0, sig0)] + grad_fns\n",
    "\n",
    "\n",
    "factor_indices = [[i for i in range(d)]] + \\\n",
    "                 [[d*i +j for j in range(d)]+[d + d*i +j for j in range(d)] for i in range(T)] \n",
    "\n",
    "factor_potential_fns = [lambda x: x for _ in grad_factor_potential_fns]\n",
    "\n",
    "nodes = list(set(n for f in factor_indices for n in f ))\n",
    "\n",
    "\n",
    "graph = FactorGraph(dim_x=len(nodes),\n",
    "                  factor_indices=factor_indices,\n",
    "                  factor_potential_fns=factor_potential_fns,\n",
    "                  grad_factor_potential_fns=grad_factor_potential_fns)"
   ]
  },
  {
   "cell_type": "code",
   "execution_count": 4,
   "metadata": {},
   "outputs": [
    {
     "data": {
      "text/plain": [
       "[[0, 1],\n",
       " [0, 1, 2, 3],\n",
       " [2, 3, 4, 5],\n",
       " [4, 5, 6, 7],\n",
       " [6, 7, 8, 9],\n",
       " [8, 9, 10, 11]]"
      ]
     },
     "execution_count": 4,
     "metadata": {},
     "output_type": "execute_result"
    }
   ],
   "source": [
    "factor_indices"
   ]
  },
  {
   "cell_type": "code",
   "execution_count": 5,
   "metadata": {},
   "outputs": [],
   "source": [
    "np.random.seed(0)\n",
    "init_x = np.random.randn(len(nodes))\n",
    "init_v = np.random.randn(len(nodes))\n",
    "local_bps = LocalBPS(init_x = init_x,\n",
    "         init_v = init_v,\n",
    "         factor_graph = graph,\n",
    "         bounce_fns=bounce_fns,\n",
    "         refresh_rate=0.001)"
   ]
  },
  {
   "cell_type": "code",
   "execution_count": 6,
   "metadata": {
    "scrolled": false
   },
   "outputs": [
    {
     "name": "stderr",
     "output_type": "stream",
     "text": [
      "100%|██████████| 1000000/1000000 [01:57<00:00, 8523.98it/s]\n"
     ]
    },
    {
     "name": "stdout",
     "output_type": "stream",
     "text": [
      "119.81693625450134\n"
     ]
    }
   ],
   "source": [
    "start = time.time()\n",
    "nsim= 10**6\n",
    "results = local_bps.simulate(nsim)\n",
    "res = results\n",
    "duration = time.time()-start\n",
    "print(duration)"
   ]
  },
  {
   "cell_type": "code",
   "execution_count": 7,
   "metadata": {},
   "outputs": [
    {
     "data": {
      "text/plain": [
       "(999001, 3, 12)"
      ]
     },
     "execution_count": 7,
     "metadata": {},
     "output_type": "execute_result"
    }
   ],
   "source": [
    "burnin = 10**3\n",
    "res[burnin:].shape"
   ]
  },
  {
   "cell_type": "code",
   "execution_count": 11,
   "metadata": {
    "scrolled": true
   },
   "outputs": [
    {
     "name": "stdout",
     "output_type": "stream",
     "text": [
      "M1: -0.001944710303532501 M2: 0.9950902285594222\n",
      "M1: -0.0002239048014546897 M2: 0.9945789268185112\n",
      "M1: 0.003038715048974063 M2: 1.3959126928204817\n",
      "M1: -5.3929682404911026e-05 M2: 1.3947058548982643\n",
      "M1: 0.002712072172535588 M2: 1.7020255880550634\n",
      "M1: -0.0007649421511950726 M2: 1.7004677734332483\n",
      "M1: -0.000868863042792006 M2: 1.963371799015955\n",
      "M1: 0.0003109245378038754 M2: 1.9580046401107796\n",
      "M1: -0.0005431358602712018 M2: 2.196575465507048\n",
      "M1: 0.00161897097859196 M2: 2.188511938307283\n",
      "M1: -0.0013351560774431477 M2: 2.4069348897758625\n",
      "M1: -0.00033638757241877 M2: 2.400849760292328\n"
     ]
    }
   ],
   "source": [
    "coef_betas = []\n",
    "for i in range(len(nodes)):\n",
    "    x1,v1,t1=get_xtv(res[burnin:],i)\n",
    "    m = get_first_moment(x1, v1, t1)\n",
    "    v = get_second_moment(x1, v1, t1)-m**2\n",
    "    print('M1: {0} M2: {1}'.format(m,np.sqrt(v)))\n",
    "coef_betas = np.array(coef_betas)"
   ]
  },
  {
   "cell_type": "code",
   "execution_count": 9,
   "metadata": {},
   "outputs": [
    {
     "data": {
      "text/plain": [
       "array([], dtype=float64)"
      ]
     },
     "execution_count": 9,
     "metadata": {},
     "output_type": "execute_result"
    }
   ],
   "source": [
    "coef_betas"
   ]
  },
  {
   "cell_type": "code",
   "execution_count": 10,
   "metadata": {},
   "outputs": [
    {
     "ename": "NameError",
     "evalue": "name 'ps' is not defined",
     "output_type": "error",
     "traceback": [
      "\u001b[0;31m---------------------------------------------------------------------------\u001b[0m",
      "\u001b[0;31mNameError\u001b[0m                                 Traceback (most recent call last)",
      "\u001b[0;32m<ipython-input-10-fd8aff8250d7>\u001b[0m in \u001b[0;36m<module>\u001b[0;34m\u001b[0m\n\u001b[0;32m----> 1\u001b[0;31m \u001b[0mnp\u001b[0m\u001b[0;34m.\u001b[0m\u001b[0mmin\u001b[0m\u001b[0;34m(\u001b[0m\u001b[0mps\u001b[0m\u001b[0;34m)\u001b[0m\u001b[0;34m,\u001b[0m \u001b[0mnp\u001b[0m\u001b[0;34m.\u001b[0m\u001b[0mmax\u001b[0m\u001b[0;34m(\u001b[0m\u001b[0mps\u001b[0m\u001b[0;34m)\u001b[0m\u001b[0;34m\u001b[0m\u001b[0;34m\u001b[0m\u001b[0m\n\u001b[0m",
      "\u001b[0;31mNameError\u001b[0m: name 'ps' is not defined"
     ]
    }
   ],
   "source": [
    "np.min(ps), np.max(ps)"
   ]
  },
  {
   "cell_type": "code",
   "execution_count": null,
   "metadata": {},
   "outputs": [],
   "source": [
    "for i in range(len(nodes)):\n",
    "    x1,v1,t1=get_xtv(res,i)\n",
    "    x = interp(x1,t1,v1, num_intervals=nsim*5)\n",
    "    print('ESS {0}: {1}'.format('bulk',ess(x, method='bulk')/duration))\n",
    "    print('ESS {0}: {1}'.format('tail',ess(x, method='tail')/duration))"
   ]
  },
  {
   "cell_type": "code",
   "execution_count": null,
   "metadata": {},
   "outputs": [],
   "source": []
  },
  {
   "cell_type": "code",
   "execution_count": null,
   "metadata": {},
   "outputs": [],
   "source": [
    "x1,v1,t1=get_xtv(res,0)\n",
    "x2,v2,t2=get_xtv(res,1)"
   ]
  },
  {
   "cell_type": "code",
   "execution_count": null,
   "metadata": {},
   "outputs": [],
   "source": [
    "x1,v1,t1=get_xtv(res,2)\n",
    "x2,v2,t2=get_xtv(res,3)\n",
    "burnin = 4000\n",
    "plot_limit = 100000\n",
    "fig_size = (10,10)\n",
    "plt.rcParams[\"axes.edgecolor\"] = \"0.15\"\n",
    "plt.rcParams[\"axes.linewidth\"]  = 1.25\n",
    "\n",
    "font = {\n",
    "        'weight' : 'bold',\n",
    "        'size'   : 22}\n",
    "\n",
    "plt.rc('font', **font)\n",
    "\n",
    "\n",
    "fig = plt.figure(figsize=fig_size,frameon =True)\n",
    "left, bottom, width, height = 0.1, 0.1, 0.8, 0.8\n",
    "ax = fig.add_axes([left, bottom, width, height])\n",
    "ax.set_title(\"Local BPS\")\n",
    "ax.set_xlabel(\"$x_1$\",fontsize='large', fontweight='bold')\n",
    "ax.set_ylabel(\"$x_2$\",fontsize='large', fontweight='bold')\n",
    "arrow_plot(x1[burnin:burnin+plot_limit],x2[burnin:burnin+plot_limit], head_length=0.01,head_width=0.01)\n",
    "fig.savefig('./local_bps.eps', format='eps', dpi=1200)\n",
    "\n"
   ]
  },
  {
   "cell_type": "code",
   "execution_count": null,
   "metadata": {},
   "outputs": [],
   "source": [
    "x1,v1,t1=get_xtv(res[1000:],2)"
   ]
  },
  {
   "cell_type": "code",
   "execution_count": null,
   "metadata": {},
   "outputs": [],
   "source": [
    "plt.plot(x1)"
   ]
  },
  {
   "cell_type": "code",
   "execution_count": null,
   "metadata": {},
   "outputs": [],
   "source": [
    "np.mean(x1)"
   ]
  },
  {
   "cell_type": "code",
   "execution_count": null,
   "metadata": {},
   "outputs": [],
   "source": [
    "np.std(x1)"
   ]
  }
 ],
 "metadata": {
  "kernelspec": {
   "display_name": "Python 3",
   "language": "python",
   "name": "python3"
  },
  "language_info": {
   "codemirror_mode": {
    "name": "ipython",
    "version": 3
   },
   "file_extension": ".py",
   "mimetype": "text/x-python",
   "name": "python",
   "nbconvert_exporter": "python",
   "pygments_lexer": "ipython3",
   "version": "3.8.5"
  }
 },
 "nbformat": 4,
 "nbformat_minor": 2
}
