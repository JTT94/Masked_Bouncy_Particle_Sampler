{
 "cells": [
  {
   "cell_type": "code",
   "execution_count": null,
   "metadata": {},
   "outputs": [],
   "source": []
  },
  {
   "cell_type": "code",
   "execution_count": 1,
   "metadata": {},
   "outputs": [],
   "source": [
    "import numpy as np\n",
    "\n",
    "import pandas as pd\n",
    "import sys, os, time\n",
    "from scipy.stats import norm\n",
    "import matplotlib.pyplot as plt\n",
    "\n",
    "%matplotlib inline\n",
    "\n",
    "sys.path.append('../')\n",
    "\n",
    "from src.data_structures import FactorGraph, PriorityQueue\n",
    "from src.sampling_algorithms.factor_components import (gaussian_bounce, chain_bounce_fn, \n",
    "                                                       gaussian_grad_potential_fn, \n",
    "                                                       gaussian_chain_grad_potential_fn,\n",
    "                                                       logistic, \n",
    "                                                       generate_logistic_bounce, \n",
    "                                                       alias_sample, \n",
    "                                                       lambda_r, \n",
    "                                                       grad_logistic, \n",
    "                                                       lambda_bound\n",
    "                                                      )\n",
    "from src.utils import (interp, get_xtv, get_first_moment, get_second_moment, get_var)\n",
    "from src.sampling_algorithms import LocalBPS\n",
    "from src.plots.arrow_plot import arrow_plot\n",
    "from arviz.stats import ess\n",
    "\n",
    "from matplotlib import rc\n",
    "rc('text', usetex=False)"
   ]
  },
  {
   "cell_type": "code",
   "execution_count": null,
   "metadata": {},
   "outputs": [],
   "source": []
  },
  {
   "cell_type": "code",
   "execution_count": 41,
   "metadata": {},
   "outputs": [],
   "source": [
    "d = 5\n",
    "T = 5\n",
    "N = 100\n",
    "\n",
    "covs = []\n",
    "for i in range(d):\n",
    "    for j in range(i+1, d):\n",
    "        row = np.zeros(d)\n",
    "        row[[i,j]]=1\n",
    "        covs.append(row)\n",
    "covs = np.array(xs)\n",
    "\n",
    "betas = []\n",
    "beta = np.random.randn(d)\n",
    "betas.append(beta)\n",
    "\n",
    "observations = []\n",
    "a = 0.5\n",
    "\n",
    "for t in range(T):\n",
    "\n",
    "    beta = a*beta + np.random.randn(d)\n",
    "    betas.append(beta)\n",
    "       \n",
    "    p = logistic(covs.dot(beta))\n",
    "    y = (np.random.random() < p)+0.\n",
    "    observations.append(y)\n",
    "\n",
    "observations = np.array(observations)\n",
    "\n",
    "covs = np.array([covs for _ in range(T)])"
   ]
  },
  {
   "cell_type": "code",
   "execution_count": 34,
   "metadata": {},
   "outputs": [],
   "source": [
    "cov_p = np.maximum(0., covs)\n",
    "cov_n = -np.minimum(0., covs)\n",
    "sign = np.expand_dims((-1.)**(observations), -1)"
   ]
  },
  {
   "cell_type": "code",
   "execution_count": null,
   "metadata": {},
   "outputs": [],
   "source": []
  },
  {
   "cell_type": "code",
   "execution_count": 42,
   "metadata": {},
   "outputs": [],
   "source": [
    "mu0 = np.array([0. for _ in range(d)])\n",
    "sig0 = np.diag([1. for _ in range(d)])\n",
    "mu1 = np.array([0. for _ in range(d)])\n",
    "sig1 = 2.*sig0\n",
    "\n",
    "global_event_samplers = []\n",
    "local_event_samplers = []\n",
    "sigs = []\n",
    "\n",
    "for t in range(T-1):\n",
    "    if t == 0:\n",
    "        sigs.append(2*sig0)\n",
    "        global_event_samplers.append(chain_bounce_fn(mu1, mu0, sig1, sig0, sig10))\n",
    "        grad_fns.append(gaussian_chain_grad_potential_fn(mu1, mu0, sig1, sig10, sig0))\n",
    "    else:\n",
    "        sigs.append(sigs[t-1] + sig0)\n",
    "        global_event_samplers.append(chain_bounce_fn(mu1, mu0, sig1, sig0, sig10))\n",
    "        grad_fns.append(gaussian_chain_grad_potential_fn(mu1, mu0, sigs[t], sigs[t-1], sigs[t-1]))\n",
    "        \n",
    "    local_event_samplers.append(alias_sample(t, cov_n, cov_p, covs, sign, ys))\n",
    "                        \n",
    "    \n",
    "    \n",
    "bounce_fns = [gaussian_bounce(mu0, sig0)] + global_event_samplers + local_event_samplers\n",
    "\n",
    "grad_factor_potential_fns = [gaussian_grad_potential_fn(mu0, sig0)] + \\\n",
    "[gaussian_chain_grad_potential_fn(mu1, mu0, sig1, sig10, sig0) for _ in range(T-1)] + \\\n",
    "[grad_logistic(covs[g], ys[g]) for g in range(T)]\n",
    "\n",
    "\n",
    "factor_indices = [[i for i in range(d)]] + \\\n",
    "                 [[t*d+i for i in range(d)]+[(t+1)*d+i for i in range(d)] for t in range(T-1)] + \\\n",
    "                 [[d*t+i for i in range(d)] for t in range(T)] \n",
    "\n",
    "factor_potential_fns = [lambda x: x for _ in grad_factor_potential_fns]\n",
    "\n",
    "nodes = list(set(n for f in factor_indices for n in f ))\n",
    "\n",
    "\n",
    "graph = FactorGraph(dim_x=len(nodes),\n",
    "                  factor_indices=factor_indices,\n",
    "                  factor_potential_fns=factor_potential_fns,\n",
    "                  grad_factor_potential_fns=grad_factor_potential_fns)"
   ]
  },
  {
   "cell_type": "code",
   "execution_count": 43,
   "metadata": {},
   "outputs": [
    {
     "data": {
      "text/plain": [
       "[[0, 1, 2, 3, 4],\n",
       " [0, 1, 2, 3, 4, 5, 6, 7, 8, 9],\n",
       " [5, 6, 7, 8, 9, 10, 11, 12, 13, 14],\n",
       " [10, 11, 12, 13, 14, 15, 16, 17, 18, 19],\n",
       " [15, 16, 17, 18, 19, 20, 21, 22, 23, 24],\n",
       " [0, 1, 2, 3, 4],\n",
       " [5, 6, 7, 8, 9],\n",
       " [10, 11, 12, 13, 14],\n",
       " [15, 16, 17, 18, 19],\n",
       " [20, 21, 22, 23, 24]]"
      ]
     },
     "execution_count": 43,
     "metadata": {},
     "output_type": "execute_result"
    }
   ],
   "source": [
    "factor_indices"
   ]
  },
  {
   "cell_type": "code",
   "execution_count": 44,
   "metadata": {},
   "outputs": [],
   "source": [
    "init_x = np.random.randn(len(nodes))\n",
    "init_v = np.random.randn(len(nodes))\n",
    "local_bps = LocalBPS(init_x = init_x,\n",
    "         init_v = init_v,\n",
    "         factor_graph = graph,\n",
    "         bounce_fns=bounce_fns,\n",
    "         refresh_rate=0.001)"
   ]
  },
  {
   "cell_type": "code",
   "execution_count": 45,
   "metadata": {
    "scrolled": false
   },
   "outputs": [
    {
     "name": "stderr",
     "output_type": "stream",
     "text": [
      "100%|██████████| 1000000/1000000 [03:21<00:00, 4972.77it/s]\n"
     ]
    },
    {
     "name": "stdout",
     "output_type": "stream",
     "text": [
      "204.07552933692932\n"
     ]
    }
   ],
   "source": [
    "start = time.time()\n",
    "nsim= 10**6\n",
    "results = local_bps.simulate(nsim)\n",
    "res = results\n",
    "duration = time.time()-start\n",
    "print(duration)"
   ]
  },
  {
   "cell_type": "code",
   "execution_count": null,
   "metadata": {},
   "outputs": [],
   "source": []
  },
  {
   "cell_type": "code",
   "execution_count": 7,
   "metadata": {},
   "outputs": [
    {
     "data": {
      "text/plain": [
       "(0.23910663620042105, 0.7492846652743199)"
      ]
     },
     "execution_count": 7,
     "metadata": {},
     "output_type": "execute_result"
    }
   ],
   "source": [
    "true_ps = logistic(covs[0].dot(betas[0]))\n",
    "np.min(true_ps), np.max(true_ps)"
   ]
  },
  {
   "cell_type": "code",
   "execution_count": 8,
   "metadata": {},
   "outputs": [
    {
     "data": {
      "text/plain": [
       "(999001, 3, 4)"
      ]
     },
     "execution_count": 8,
     "metadata": {},
     "output_type": "execute_result"
    }
   ],
   "source": [
    "burnin = 10**3\n",
    "res[burnin:].shape"
   ]
  },
  {
   "cell_type": "code",
   "execution_count": 9,
   "metadata": {
    "scrolled": true
   },
   "outputs": [
    {
     "name": "stdout",
     "output_type": "stream",
     "text": [
      "Beta 0: 0.0 vs 0.08248010473331441\n",
      "Beta 1: 0.0 vs 0.0739430809262455\n",
      "Beta 2: 1.0003775782296962 vs 0.15239479123998537\n",
      "Beta 3: 0.2089709806054596 vs 0.14564772643417387\n"
     ]
    }
   ],
   "source": [
    "coef_betas = []\n",
    "betas_flat = np.array(betas).flatten()\n",
    "for i in range(len(nodes)):\n",
    "    x1,v1,t1=get_xtv(res[burnin:],i)\n",
    "    if i < d:\n",
    "        beta = beta0\n",
    "    else:\n",
    "        beta = betas_flat[i-d]\n",
    "    b = get_first_moment(x1, v1, t1)\n",
    "    coef_betas.append(b)\n",
    "    print('Beta {0}: {1} vs {2}'.format(i, beta,b))\n",
    "coef_betas = np.array(coef_betas)"
   ]
  },
  {
   "cell_type": "code",
   "execution_count": 10,
   "metadata": {},
   "outputs": [
    {
     "data": {
      "text/plain": [
       "array([0.0824801 , 0.07394308, 0.15239479, 0.14564773])"
      ]
     },
     "execution_count": 10,
     "metadata": {},
     "output_type": "execute_result"
    }
   ],
   "source": [
    "coef_betas"
   ]
  },
  {
   "cell_type": "code",
   "execution_count": 11,
   "metadata": {},
   "outputs": [],
   "source": [
    "ps = logistic(covs[0].dot(coef_betas[d:]))"
   ]
  },
  {
   "cell_type": "code",
   "execution_count": 12,
   "metadata": {},
   "outputs": [
    {
     "data": {
      "text/plain": [
       "(0.4311991468357447, 0.5654269323926087)"
      ]
     },
     "execution_count": 12,
     "metadata": {},
     "output_type": "execute_result"
    }
   ],
   "source": [
    "np.min(ps), np.max(ps)"
   ]
  },
  {
   "cell_type": "code",
   "execution_count": 13,
   "metadata": {},
   "outputs": [
    {
     "name": "stdout",
     "output_type": "stream",
     "text": [
      "ESS bulk: 47.67289473371851\n",
      "ESS tail: 55.71907908822839\n",
      "ESS bulk: 48.10269910403497\n",
      "ESS tail: 55.68402090511604\n",
      "ESS bulk: 41.42161205363145\n",
      "ESS tail: 60.037826194696585\n",
      "ESS bulk: 41.09852879493772\n",
      "ESS tail: 56.78186379121317\n"
     ]
    }
   ],
   "source": [
    "for i in range(len(nodes)):\n",
    "    x1,v1,t1=get_xtv(res,i)\n",
    "    x = interp(x1,t1,v1, num_intervals=nsim*5)\n",
    "    print('ESS {0}: {1}'.format('bulk',ess(x, method='bulk')/duration))\n",
    "    print('ESS {0}: {1}'.format('tail',ess(x, method='tail')/duration))"
   ]
  },
  {
   "cell_type": "code",
   "execution_count": null,
   "metadata": {},
   "outputs": [],
   "source": []
  },
  {
   "cell_type": "code",
   "execution_count": 14,
   "metadata": {},
   "outputs": [],
   "source": [
    "x1,v1,t1=get_xtv(res,0)\n",
    "x2,v2,t2=get_xtv(res,1)"
   ]
  },
  {
   "cell_type": "code",
   "execution_count": 15,
   "metadata": {},
   "outputs": [
    {
     "data": {
      "image/png": "[encoded data removed]",
      "text/plain": [
       "<Figure size 720x720 with 1 Axes>"
      ]
     },
     "metadata": {
      "needs_background": "light"
     },
     "output_type": "display_data"
    }
   ],
   "source": [
    "x1,v1,t1=get_xtv(res,2)\n",
    "x2,v2,t2=get_xtv(res,3)\n",
    "burnin = 4000\n",
    "plot_limit = 100000\n",
    "fig_size = (10,10)\n",
    "plt.rcParams[\"axes.edgecolor\"] = \"0.15\"\n",
    "plt.rcParams[\"axes.linewidth\"]  = 1.25\n",
    "\n",
    "font = {\n",
    "        'weight' : 'bold',\n",
    "        'size'   : 22}\n",
    "\n",
    "plt.rc('font', **font)\n",
    "\n",
    "\n",
    "fig = plt.figure(figsize=fig_size,frameon =True)\n",
    "left, bottom, width, height = 0.1, 0.1, 0.8, 0.8\n",
    "ax = fig.add_axes([left, bottom, width, height])\n",
    "ax.set_title(\"Local BPS\")\n",
    "ax.set_xlabel(\"$x_1$\",fontsize='large', fontweight='bold')\n",
    "ax.set_ylabel(\"$x_2$\",fontsize='large', fontweight='bold')\n",
    "arrow_plot(x1[burnin:burnin+plot_limit],x2[burnin:burnin+plot_limit], head_length=0.01,head_width=0.01)\n",
    "fig.savefig('./local_bps.eps', format='eps', dpi=1200)\n",
    "\n"
   ]
  },
  {
   "cell_type": "code",
   "execution_count": 16,
   "metadata": {},
   "outputs": [],
   "source": [
    "x1,v1,t1=get_xtv(res[1000:],2)"
   ]
  },
  {
   "cell_type": "code",
   "execution_count": 17,
   "metadata": {},
   "outputs": [
    {
     "data": {
      "text/plain": [
       "[<matplotlib.lines.Line2D at 0x7f0c5547d3d0>]"
      ]
     },
     "execution_count": 17,
     "metadata": {},
     "output_type": "execute_result"
    },
    {
     "data": {
      "image/png": "[encoded data removed]",
      "text/plain": [
       "<Figure size 432x288 with 1 Axes>"
      ]
     },
     "metadata": {
      "needs_background": "light"
     },
     "output_type": "display_data"
    }
   ],
   "source": [
    "plt.plot(x1)"
   ]
  },
  {
   "cell_type": "code",
   "execution_count": 18,
   "metadata": {},
   "outputs": [
    {
     "data": {
      "text/plain": [
       "0.15381303467722662"
      ]
     },
     "execution_count": 18,
     "metadata": {},
     "output_type": "execute_result"
    }
   ],
   "source": [
    "np.mean(x1)"
   ]
  },
  {
   "cell_type": "code",
   "execution_count": 19,
   "metadata": {},
   "outputs": [
    {
     "data": {
      "text/plain": [
       "1.3297388475320644"
      ]
     },
     "execution_count": 19,
     "metadata": {},
     "output_type": "execute_result"
    }
   ],
   "source": [
    "np.std(x1)"
   ]
  }
 ],
 "metadata": {
  "kernelspec": {
   "display_name": "Python 3",
   "language": "python",
   "name": "python3"
  },
  "language_info": {
   "codemirror_mode": {
    "name": "ipython",
    "version": 3
   },
   "file_extension": ".py",
   "mimetype": "text/x-python",
   "name": "python",
   "nbconvert_exporter": "python",
   "pygments_lexer": "ipython3",
   "version": "3.8.5"
  }
 },
 "nbformat": 4,
 "nbformat_minor": 2
}
