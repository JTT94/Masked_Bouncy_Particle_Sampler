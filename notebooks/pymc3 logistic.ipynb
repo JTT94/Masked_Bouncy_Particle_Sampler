{
 "cells": [
  {
   "cell_type": "code",
   "execution_count": 21,
   "id": "valuable-reply",
   "metadata": {},
   "outputs": [],
   "source": [
    "import warnings\n",
    "\n",
    "import arviz as az\n",
    "import matplotlib.pyplot as plt\n",
    "import numpy as np\n",
    "import pymc3 as pm\n",
    "import theano.tensor as tt\n",
    "import time\n",
    "warnings.simplefilter(action=\"ignore\", category=FutureWarning)\n",
    "import sys,os\n",
    "\n",
    "sys.path.append('../')\n",
    "from src.utils.serialize import pickle_obj, unpickle_obj"
   ]
  },
  {
   "cell_type": "code",
   "execution_count": 2,
   "id": "musical-drive",
   "metadata": {},
   "outputs": [],
   "source": [
    "def logistic(x):\n",
    "    return 1/(1+np.exp(-x))"
   ]
  },
  {
   "cell_type": "code",
   "execution_count": 3,
   "id": "constitutional-freight",
   "metadata": {},
   "outputs": [],
   "source": [
    "np.random.seed(0)\n",
    "d = 2\n",
    "groups = 1\n",
    "N = 100\n",
    "\n",
    "\n",
    "\n",
    "beta0 = 0.\n",
    "betas = []\n",
    "observations = []\n",
    "covs = []\n",
    "\n",
    "for g in range(groups):\n",
    "    beta = beta0 + 4.*np.random.randn(d)\n",
    "    betas.append(beta)\n",
    "    \n",
    "    cov = np.random.rand(d*N).reshape(N,d)*2.-1.\n",
    "    covs.append(cov)\n",
    "    p = logistic(cov.dot(beta))\n",
    "    y = (np.random.random(len(p)) < p)+0.\n",
    "    observations.append(y)"
   ]
  },
  {
   "cell_type": "code",
   "execution_count": 4,
   "id": "alert-armstrong",
   "metadata": {},
   "outputs": [],
   "source": [
    "np.random.seed(0)\n",
    "init_x = np.random.randn(4)"
   ]
  },
  {
   "cell_type": "code",
   "execution_count": 5,
   "id": "functioning-criterion",
   "metadata": {},
   "outputs": [],
   "source": [
    "mu0 = np.array([0. for _ in range(d)])\n",
    "sig0 = np.diag([1. for _ in range(d)])\n",
    "mu1 = np.array([0. for _ in range(d)])\n",
    "sig1 = sig0 + sig0\n",
    "sig10 = sig0"
   ]
  },
  {
   "cell_type": "code",
   "execution_count": 22,
   "id": "certain-yacht",
   "metadata": {},
   "outputs": [
    {
     "data": {
      "text/plain": [
       "array([0., 0.])"
      ]
     },
     "execution_count": 22,
     "metadata": {},
     "output_type": "execute_result"
    }
   ],
   "source": [
    "mu0"
   ]
  },
  {
   "cell_type": "code",
   "execution_count": 7,
   "id": "falling-history",
   "metadata": {},
   "outputs": [
    {
     "name": "stderr",
     "output_type": "stream",
     "text": [
      "/home/james/miniconda3/envs/bps/lib/python3.8/site-packages/theano/tensor/elemwise.py:826: RuntimeWarning: divide by zero encountered in log\n",
      "  variables = ufunc(*ufunc_args, **ufunc_kwargs)\n",
      "/home/james/miniconda3/envs/bps/lib/python3.8/site-packages/theano/tensor/elemwise.py:826: RuntimeWarning: invalid value encountered in multiply\n",
      "  variables = ufunc(*ufunc_args, **ufunc_kwargs)\n"
     ]
    },
    {
     "data": {
      "text/html": [
       "\n",
       "    <div>\n",
       "        <style>\n",
       "            /* Turns off some styling */\n",
       "            progress {\n",
       "                /* gets rid of default border in Firefox and Opera. */\n",
       "                border: none;\n",
       "                /* Needs to be in here for Safari polyfill so background images work as expected. */\n",
       "                background-size: auto;\n",
       "            }\n",
       "            .progress-bar-interrupted, .progress-bar-interrupted::-webkit-progress-bar {\n",
       "                background: #F44336;\n",
       "            }\n",
       "        </style>\n",
       "      <progress value='12' class='' max='12' style='width:300px; height:20px; vertical-align: middle;'></progress>\n",
       "      100.00% [12/12 00:00<00:00 logp = -36.887, ||grad|| = 3.8729e-05]\n",
       "    </div>\n",
       "    "
      ],
      "text/plain": [
       "<IPython.core.display.HTML object>"
      ]
     },
     "metadata": {},
     "output_type": "display_data"
    },
    {
     "name": "stdout",
     "output_type": "stream",
     "text": [
      "\n"
     ]
    }
   ],
   "source": [
    "with pm.Model() as first_model:\n",
    "    #priors on parameters\n",
    "    mu_0 = pm.MvNormal('mu_0', mu=mu0, cov=sig0, shape=(2,))\n",
    "    beta = pm.MvNormal('beta', mu=mu_0, cov=sig0, shape=(2,))\n",
    "    \n",
    "\n",
    "    \n",
    "    #the probability of belonging to class 1\n",
    "    p = pm.Deterministic('p', pm.math.sigmoid(beta[0]*covs[0][:,0]+\n",
    "                               beta[1]*covs[0][:,1])\n",
    "                        )\n",
    "\n",
    "    #fit the data \n",
    "    observed=pm.Bernoulli(\"occupancy\", p, observed=observations[0])\n",
    "    \n",
    "    start = pm.find_MAP()\n",
    "    "
   ]
  },
  {
   "cell_type": "code",
   "execution_count": 8,
   "id": "bronze-austin",
   "metadata": {},
   "outputs": [],
   "source": [
    "num_chains = 1"
   ]
  },
  {
   "cell_type": "code",
   "execution_count": 9,
   "id": "arbitrary-northeast",
   "metadata": {},
   "outputs": [
    {
     "data": {
      "text/plain": [
       "{'mu_0': array([2.13799408, 0.61352211]),\n",
       " 'beta': array([4.27598974, 1.22704567]),\n",
       " 'p': array([0.72888595, 0.42681323, 0.60532284, 0.97537811, 0.92862367,\n",
       "        0.83567158, 0.00917811, 0.03602671, 0.96397438, 0.99205548,\n",
       "        0.58880234, 0.05111885, 0.12359944, 0.49435499, 0.20742438,\n",
       "        0.44841958, 0.02131891, 0.77653849, 0.98581282, 0.20488875,\n",
       "        0.64814404, 0.86353267, 0.03268996, 0.12865325, 0.61055455,\n",
       "        0.96083219, 0.03486255, 0.66905948, 0.28591396, 0.02037901,\n",
       "        0.61040034, 0.05132045, 0.85275536, 0.86976545, 0.98197381,\n",
       "        0.98706184, 0.71408388, 0.05789407, 0.06421903, 0.14591449,\n",
       "        0.03714558, 0.49845467, 0.31051982, 0.8459294 , 0.24218191,\n",
       "        0.06799079, 0.07053684, 0.39225504, 0.8316779 , 0.72237276,\n",
       "        0.95873608, 0.1232766 , 0.72401258, 0.22147131, 0.59819162,\n",
       "        0.77009265, 0.91905739, 0.9694877 , 0.97673086, 0.87320737,\n",
       "        0.98598873, 0.4036953 , 0.0099636 , 0.70153792, 0.6972966 ,\n",
       "        0.02627651, 0.69452252, 0.73333253, 0.75629603, 0.95547863,\n",
       "        0.60188701, 0.9576667 , 0.08398436, 0.95505817, 0.10963294,\n",
       "        0.06896102, 0.08603486, 0.94255493, 0.13574731, 0.82840944,\n",
       "        0.94257581, 0.99289499, 0.01077772, 0.7615187 , 0.28622478,\n",
       "        0.02303997, 0.86225925, 0.43241649, 0.64548189, 0.0711333 ,\n",
       "        0.50430548, 0.98189101, 0.62840453, 0.81854114, 0.17044435,\n",
       "        0.1689425 , 0.88341954, 0.05049933, 0.0190646 , 0.24459081])}"
      ]
     },
     "execution_count": 9,
     "metadata": {},
     "output_type": "execute_result"
    }
   ],
   "source": [
    "start"
   ]
  },
  {
   "cell_type": "code",
   "execution_count": 10,
   "id": "talented-valuable",
   "metadata": {},
   "outputs": [
    {
     "name": "stderr",
     "output_type": "stream",
     "text": [
      "Auto-assigning NUTS sampler...\n",
      "Initializing NUTS using jitter+adapt_diag...\n",
      "Sequential sampling (1 chains in 1 job)\n",
      "NUTS: [beta, mu_0]\n"
     ]
    },
    {
     "data": {
      "text/html": [
       "\n",
       "    <div>\n",
       "        <style>\n",
       "            /* Turns off some styling */\n",
       "            progress {\n",
       "                /* gets rid of default border in Firefox and Opera. */\n",
       "                border: none;\n",
       "                /* Needs to be in here for Safari polyfill so background images work as expected. */\n",
       "                background-size: auto;\n",
       "            }\n",
       "            .progress-bar-interrupted, .progress-bar-interrupted::-webkit-progress-bar {\n",
       "                background: #F44336;\n",
       "            }\n",
       "        </style>\n",
       "      <progress value='2100' class='' max='2100' style='width:300px; height:20px; vertical-align: middle;'></progress>\n",
       "      100.00% [2100/2100 02:11<00:00 Sampling chain 0, 0 divergences]\n",
       "    </div>\n",
       "    "
      ],
      "text/plain": [
       "<IPython.core.display.HTML object>"
      ]
     },
     "metadata": {},
     "output_type": "display_data"
    },
    {
     "name": "stderr",
     "output_type": "stream",
     "text": [
      "Sampling 1 chain for 100 tune and 2_000 draw iterations (100 + 2_000 draws total) took 132 seconds.\n",
      "The acceptance probability does not match the target. It is 0.9334048915917911, but should be close to 0.8. Try to increase the number of tuning steps.\n"
     ]
    },
    {
     "name": "stdout",
     "output_type": "stream",
     "text": [
      "132.80891251564026\n"
     ]
    }
   ],
   "source": [
    "start = time.time()\n",
    "with first_model:    \n",
    "    #samples from posterior distribution \n",
    "    trace=pm.sample(2000, tune=100, cores=num_chains, chains=num_chains, compute_convergence_checks=False)\n",
    "duration = time.time()-start\n",
    "print(duration)"
   ]
  },
  {
   "cell_type": "code",
   "execution_count": 12,
   "id": "accompanied-remedy",
   "metadata": {},
   "outputs": [
    {
     "data": {
      "text/plain": [
       "2.8289971797214024"
      ]
     },
     "execution_count": 12,
     "metadata": {},
     "output_type": "execute_result"
    }
   ],
   "source": [
    "np.mean(trace.get_values('beta'))"
   ]
  },
  {
   "cell_type": "code",
   "execution_count": null,
   "id": "moderate-wealth",
   "metadata": {},
   "outputs": [],
   "source": [
    "np.std(trace.get_values('beta_2'))"
   ]
  },
  {
   "cell_type": "code",
   "execution_count": null,
   "id": "romantic-nitrogen",
   "metadata": {},
   "outputs": [],
   "source": [
    "with first_model:\n",
    "    az.plot_trace(trace)"
   ]
  },
  {
   "cell_type": "code",
   "execution_count": 13,
   "id": "daily-telling",
   "metadata": {},
   "outputs": [
    {
     "name": "stderr",
     "output_type": "stream",
     "text": [
      "arviz - WARNING - Shape validation failed: input_shape: (1, 2000), minimum_shape: (chains=2, draws=4)\n"
     ]
    }
   ],
   "source": [
    "df = az.summary(trace, round_to=2)"
   ]
  },
  {
   "cell_type": "code",
   "execution_count": 17,
   "id": "refined-gossip",
   "metadata": {},
   "outputs": [],
   "source": [
    "cols = [col for col in df.columns if 'ess' in col]"
   ]
  },
  {
   "cell_type": "code",
   "execution_count": 15,
   "id": "prescribed-behalf",
   "metadata": {},
   "outputs": [],
   "source": [
    "duration = 132"
   ]
  },
  {
   "cell_type": "code",
   "execution_count": 18,
   "id": "architectural-conference",
   "metadata": {},
   "outputs": [
    {
     "data": {
      "text/plain": [
       "(0.01, 0.99)"
      ]
     },
     "execution_count": 18,
     "metadata": {},
     "output_type": "execute_result"
    }
   ],
   "source": [
    "df['mean'][4:].min(), df['mean'][4:].max()"
   ]
  },
  {
   "cell_type": "code",
   "execution_count": 19,
   "id": "reserved-raleigh",
   "metadata": {},
   "outputs": [
    {
     "data": {
      "text/html": [
       "<div>\n",
       "<style scoped>\n",
       "    .dataframe tbody tr th:only-of-type {\n",
       "        vertical-align: middle;\n",
       "    }\n",
       "\n",
       "    .dataframe tbody tr th {\n",
       "        vertical-align: top;\n",
       "    }\n",
       "\n",
       "    .dataframe thead th {\n",
       "        text-align: right;\n",
       "    }\n",
       "</style>\n",
       "<table border=\"1\" class=\"dataframe\">\n",
       "  <thead>\n",
       "    <tr style=\"text-align: right;\">\n",
       "      <th></th>\n",
       "      <th>ess_mean</th>\n",
       "      <th>ess_sd</th>\n",
       "      <th>ess_bulk</th>\n",
       "      <th>ess_tail</th>\n",
       "    </tr>\n",
       "  </thead>\n",
       "  <tbody>\n",
       "    <tr>\n",
       "      <th>mu_0[0]</th>\n",
       "      <td>10.115758</td>\n",
       "      <td>9.233561</td>\n",
       "      <td>10.299015</td>\n",
       "      <td>11.449545</td>\n",
       "    </tr>\n",
       "    <tr>\n",
       "      <th>mu_0[1]</th>\n",
       "      <td>6.880833</td>\n",
       "      <td>6.776288</td>\n",
       "      <td>6.897727</td>\n",
       "      <td>8.171818</td>\n",
       "    </tr>\n",
       "    <tr>\n",
       "      <th>beta[0]</th>\n",
       "      <td>11.445076</td>\n",
       "      <td>11.249773</td>\n",
       "      <td>11.493788</td>\n",
       "      <td>11.039924</td>\n",
       "    </tr>\n",
       "    <tr>\n",
       "      <th>beta[1]</th>\n",
       "      <td>8.577273</td>\n",
       "      <td>8.577273</td>\n",
       "      <td>8.537955</td>\n",
       "      <td>8.778258</td>\n",
       "    </tr>\n",
       "    <tr>\n",
       "      <th>p[0]</th>\n",
       "      <td>9.014621</td>\n",
       "      <td>8.966742</td>\n",
       "      <td>9.007803</td>\n",
       "      <td>11.573561</td>\n",
       "    </tr>\n",
       "    <tr>\n",
       "      <th>...</th>\n",
       "      <td>...</td>\n",
       "      <td>...</td>\n",
       "      <td>...</td>\n",
       "      <td>...</td>\n",
       "    </tr>\n",
       "    <tr>\n",
       "      <th>p[95]</th>\n",
       "      <td>16.100833</td>\n",
       "      <td>15.423030</td>\n",
       "      <td>15.467879</td>\n",
       "      <td>11.745152</td>\n",
       "    </tr>\n",
       "    <tr>\n",
       "      <th>p[96]</th>\n",
       "      <td>12.324621</td>\n",
       "      <td>12.231970</td>\n",
       "      <td>11.785758</td>\n",
       "      <td>10.554242</td>\n",
       "    </tr>\n",
       "    <tr>\n",
       "      <th>p[97]</th>\n",
       "      <td>9.224091</td>\n",
       "      <td>9.224091</td>\n",
       "      <td>8.265530</td>\n",
       "      <td>10.498485</td>\n",
       "    </tr>\n",
       "    <tr>\n",
       "      <th>p[98]</th>\n",
       "      <td>13.158030</td>\n",
       "      <td>13.158030</td>\n",
       "      <td>10.467424</td>\n",
       "      <td>11.211894</td>\n",
       "    </tr>\n",
       "    <tr>\n",
       "      <th>p[99]</th>\n",
       "      <td>16.842652</td>\n",
       "      <td>16.842652</td>\n",
       "      <td>16.818939</td>\n",
       "      <td>11.752803</td>\n",
       "    </tr>\n",
       "  </tbody>\n",
       "</table>\n",
       "<p>104 rows × 4 columns</p>\n",
       "</div>"
      ],
      "text/plain": [
       "          ess_mean     ess_sd   ess_bulk   ess_tail\n",
       "mu_0[0]  10.115758   9.233561  10.299015  11.449545\n",
       "mu_0[1]   6.880833   6.776288   6.897727   8.171818\n",
       "beta[0]  11.445076  11.249773  11.493788  11.039924\n",
       "beta[1]   8.577273   8.577273   8.537955   8.778258\n",
       "p[0]      9.014621   8.966742   9.007803  11.573561\n",
       "...            ...        ...        ...        ...\n",
       "p[95]    16.100833  15.423030  15.467879  11.745152\n",
       "p[96]    12.324621  12.231970  11.785758  10.554242\n",
       "p[97]     9.224091   9.224091   8.265530  10.498485\n",
       "p[98]    13.158030  13.158030  10.467424  11.211894\n",
       "p[99]    16.842652  16.842652  16.818939  11.752803\n",
       "\n",
       "[104 rows x 4 columns]"
      ]
     },
     "execution_count": 19,
     "metadata": {},
     "output_type": "execute_result"
    }
   ],
   "source": [
    "df[cols]/duration/num_chains"
   ]
  },
  {
   "cell_type": "code",
   "execution_count": null,
   "id": "norwegian-orchestra",
   "metadata": {},
   "outputs": [],
   "source": [
    "betas"
   ]
  },
  {
   "cell_type": "code",
   "execution_count": 23,
   "id": "future-teddy",
   "metadata": {},
   "outputs": [
    {
     "data": {
      "text/latex": [
       "$$\n",
       "                \\begin{array}{rcl}\n",
       "                \\text{mu_0} &\\sim & \\text{MvNormal}\\\\\\text{beta} &\\sim & \\text{MvNormal}\\\\\\text{p} &\\sim & \\text{Deterministic}\\\\\\text{occupancy} &\\sim & \\text{Bernoulli}\n",
       "                \\end{array}\n",
       "                $$"
      ],
      "text/plain": [
       "<pymc3.model.Model at 0x7ff1abe08ca0>"
      ]
     },
     "execution_count": 23,
     "metadata": {},
     "output_type": "execute_result"
    }
   ],
   "source": [
    "first_model"
   ]
  },
  {
   "cell_type": "code",
   "execution_count": 25,
   "id": "compressed-norman",
   "metadata": {},
   "outputs": [],
   "source": [
    "pickle_obj(first_model, 'logistic.pmc3')"
   ]
  },
  {
   "cell_type": "code",
   "execution_count": 27,
   "id": "atomic-israel",
   "metadata": {},
   "outputs": [],
   "source": [
    "logistic_model = unpickle_obj('logistic.pmc3')"
   ]
  },
  {
   "cell_type": "code",
   "execution_count": 28,
   "id": "naughty-trainer",
   "metadata": {},
   "outputs": [
    {
     "name": "stderr",
     "output_type": "stream",
     "text": [
      "Auto-assigning NUTS sampler...\n",
      "Initializing NUTS using jitter+adapt_diag...\n",
      "/home/james/miniconda3/envs/bps/lib/python3.8/site-packages/theano/tensor/elemwise.py:826: RuntimeWarning: divide by zero encountered in log\n",
      "  variables = ufunc(*ufunc_args, **ufunc_kwargs)\n",
      "/home/james/miniconda3/envs/bps/lib/python3.8/site-packages/theano/tensor/elemwise.py:826: RuntimeWarning: invalid value encountered in multiply\n",
      "  variables = ufunc(*ufunc_args, **ufunc_kwargs)\n",
      "Sequential sampling (1 chains in 1 job)\n",
      "NUTS: [beta, mu_0]\n"
     ]
    },
    {
     "data": {
      "text/html": [
       "\n",
       "    <div>\n",
       "        <style>\n",
       "            /* Turns off some styling */\n",
       "            progress {\n",
       "                /* gets rid of default border in Firefox and Opera. */\n",
       "                border: none;\n",
       "                /* Needs to be in here for Safari polyfill so background images work as expected. */\n",
       "                background-size: auto;\n",
       "            }\n",
       "            .progress-bar-interrupted, .progress-bar-interrupted::-webkit-progress-bar {\n",
       "                background: #F44336;\n",
       "            }\n",
       "        </style>\n",
       "      <progress value='2100' class='' max='2100' style='width:300px; height:20px; vertical-align: middle;'></progress>\n",
       "      100.00% [2100/2100 01:45<00:00 Sampling chain 0, 0 divergences]\n",
       "    </div>\n",
       "    "
      ],
      "text/plain": [
       "<IPython.core.display.HTML object>"
      ]
     },
     "metadata": {},
     "output_type": "display_data"
    },
    {
     "name": "stderr",
     "output_type": "stream",
     "text": [
      "Sampling 1 chain for 100 tune and 2_000 draw iterations (100 + 2_000 draws total) took 106 seconds.\n",
      "The acceptance probability does not match the target. It is 0.9052641853225213, but should be close to 0.8. Try to increase the number of tuning steps.\n"
     ]
    },
    {
     "name": "stdout",
     "output_type": "stream",
     "text": [
      "107.0102128982544\n"
     ]
    },
    {
     "name": "stderr",
     "output_type": "stream",
     "text": [
      "arviz - WARNING - Shape validation failed: input_shape: (1, 2000), minimum_shape: (chains=2, draws=4)\n"
     ]
    },
    {
     "data": {
      "text/html": [
       "<div>\n",
       "<style scoped>\n",
       "    .dataframe tbody tr th:only-of-type {\n",
       "        vertical-align: middle;\n",
       "    }\n",
       "\n",
       "    .dataframe tbody tr th {\n",
       "        vertical-align: top;\n",
       "    }\n",
       "\n",
       "    .dataframe thead th {\n",
       "        text-align: right;\n",
       "    }\n",
       "</style>\n",
       "<table border=\"1\" class=\"dataframe\">\n",
       "  <thead>\n",
       "    <tr style=\"text-align: right;\">\n",
       "      <th></th>\n",
       "      <th>mean</th>\n",
       "      <th>sd</th>\n",
       "      <th>hdi_3%</th>\n",
       "      <th>hdi_97%</th>\n",
       "      <th>mcse_mean</th>\n",
       "      <th>mcse_sd</th>\n",
       "      <th>ess_mean</th>\n",
       "      <th>ess_sd</th>\n",
       "      <th>ess_bulk</th>\n",
       "      <th>ess_tail</th>\n",
       "      <th>r_hat</th>\n",
       "    </tr>\n",
       "  </thead>\n",
       "  <tbody>\n",
       "    <tr>\n",
       "      <th>mu_0[0]</th>\n",
       "      <td>2.19</td>\n",
       "      <td>0.82</td>\n",
       "      <td>0.58</td>\n",
       "      <td>3.61</td>\n",
       "      <td>0.02</td>\n",
       "      <td>0.02</td>\n",
       "      <td>1214.93</td>\n",
       "      <td>1214.93</td>\n",
       "      <td>1215.08</td>\n",
       "      <td>1007.80</td>\n",
       "      <td>NaN</td>\n",
       "    </tr>\n",
       "    <tr>\n",
       "      <th>mu_0[1]</th>\n",
       "      <td>0.60</td>\n",
       "      <td>0.78</td>\n",
       "      <td>-1.03</td>\n",
       "      <td>1.89</td>\n",
       "      <td>0.02</td>\n",
       "      <td>0.02</td>\n",
       "      <td>1301.98</td>\n",
       "      <td>1200.37</td>\n",
       "      <td>1299.32</td>\n",
       "      <td>1100.63</td>\n",
       "      <td>NaN</td>\n",
       "    </tr>\n",
       "    <tr>\n",
       "      <th>beta[0]</th>\n",
       "      <td>4.37</td>\n",
       "      <td>0.71</td>\n",
       "      <td>2.91</td>\n",
       "      <td>5.62</td>\n",
       "      <td>0.02</td>\n",
       "      <td>0.01</td>\n",
       "      <td>1693.44</td>\n",
       "      <td>1682.09</td>\n",
       "      <td>1701.83</td>\n",
       "      <td>1604.28</td>\n",
       "      <td>NaN</td>\n",
       "    </tr>\n",
       "    <tr>\n",
       "      <th>beta[1]</th>\n",
       "      <td>1.25</td>\n",
       "      <td>0.51</td>\n",
       "      <td>0.36</td>\n",
       "      <td>2.27</td>\n",
       "      <td>0.02</td>\n",
       "      <td>0.01</td>\n",
       "      <td>1118.95</td>\n",
       "      <td>1104.92</td>\n",
       "      <td>1118.22</td>\n",
       "      <td>1229.88</td>\n",
       "      <td>NaN</td>\n",
       "    </tr>\n",
       "    <tr>\n",
       "      <th>p[0]</th>\n",
       "      <td>0.73</td>\n",
       "      <td>0.03</td>\n",
       "      <td>0.66</td>\n",
       "      <td>0.79</td>\n",
       "      <td>0.00</td>\n",
       "      <td>0.00</td>\n",
       "      <td>1330.71</td>\n",
       "      <td>1330.71</td>\n",
       "      <td>1335.93</td>\n",
       "      <td>1452.20</td>\n",
       "      <td>NaN</td>\n",
       "    </tr>\n",
       "    <tr>\n",
       "      <th>...</th>\n",
       "      <td>...</td>\n",
       "      <td>...</td>\n",
       "      <td>...</td>\n",
       "      <td>...</td>\n",
       "      <td>...</td>\n",
       "      <td>...</td>\n",
       "      <td>...</td>\n",
       "      <td>...</td>\n",
       "      <td>...</td>\n",
       "      <td>...</td>\n",
       "      <td>...</td>\n",
       "    </tr>\n",
       "    <tr>\n",
       "      <th>p[95]</th>\n",
       "      <td>0.17</td>\n",
       "      <td>0.07</td>\n",
       "      <td>0.05</td>\n",
       "      <td>0.30</td>\n",
       "      <td>0.00</td>\n",
       "      <td>0.00</td>\n",
       "      <td>2100.33</td>\n",
       "      <td>1988.87</td>\n",
       "      <td>2111.93</td>\n",
       "      <td>1683.04</td>\n",
       "      <td>NaN</td>\n",
       "    </tr>\n",
       "    <tr>\n",
       "      <th>p[96]</th>\n",
       "      <td>0.88</td>\n",
       "      <td>0.03</td>\n",
       "      <td>0.82</td>\n",
       "      <td>0.95</td>\n",
       "      <td>0.00</td>\n",
       "      <td>0.00</td>\n",
       "      <td>1659.39</td>\n",
       "      <td>1659.39</td>\n",
       "      <td>1731.97</td>\n",
       "      <td>1401.31</td>\n",
       "      <td>NaN</td>\n",
       "    </tr>\n",
       "    <tr>\n",
       "      <th>p[97]</th>\n",
       "      <td>0.05</td>\n",
       "      <td>0.03</td>\n",
       "      <td>0.01</td>\n",
       "      <td>0.10</td>\n",
       "      <td>0.00</td>\n",
       "      <td>0.00</td>\n",
       "      <td>1181.07</td>\n",
       "      <td>1181.07</td>\n",
       "      <td>1151.41</td>\n",
       "      <td>1408.29</td>\n",
       "      <td>NaN</td>\n",
       "    </tr>\n",
       "    <tr>\n",
       "      <th>p[98]</th>\n",
       "      <td>0.02</td>\n",
       "      <td>0.01</td>\n",
       "      <td>0.00</td>\n",
       "      <td>0.05</td>\n",
       "      <td>0.00</td>\n",
       "      <td>0.00</td>\n",
       "      <td>1456.50</td>\n",
       "      <td>1456.50</td>\n",
       "      <td>1561.27</td>\n",
       "      <td>1605.56</td>\n",
       "      <td>NaN</td>\n",
       "    </tr>\n",
       "    <tr>\n",
       "      <th>p[99]</th>\n",
       "      <td>0.24</td>\n",
       "      <td>0.05</td>\n",
       "      <td>0.16</td>\n",
       "      <td>0.34</td>\n",
       "      <td>0.00</td>\n",
       "      <td>0.00</td>\n",
       "      <td>2261.54</td>\n",
       "      <td>2221.55</td>\n",
       "      <td>2280.41</td>\n",
       "      <td>1684.40</td>\n",
       "      <td>NaN</td>\n",
       "    </tr>\n",
       "  </tbody>\n",
       "</table>\n",
       "<p>104 rows × 11 columns</p>\n",
       "</div>"
      ],
      "text/plain": [
       "         mean    sd  hdi_3%  hdi_97%  mcse_mean  mcse_sd  ess_mean   ess_sd  \\\n",
       "mu_0[0]  2.19  0.82    0.58     3.61       0.02     0.02   1214.93  1214.93   \n",
       "mu_0[1]  0.60  0.78   -1.03     1.89       0.02     0.02   1301.98  1200.37   \n",
       "beta[0]  4.37  0.71    2.91     5.62       0.02     0.01   1693.44  1682.09   \n",
       "beta[1]  1.25  0.51    0.36     2.27       0.02     0.01   1118.95  1104.92   \n",
       "p[0]     0.73  0.03    0.66     0.79       0.00     0.00   1330.71  1330.71   \n",
       "...       ...   ...     ...      ...        ...      ...       ...      ...   \n",
       "p[95]    0.17  0.07    0.05     0.30       0.00     0.00   2100.33  1988.87   \n",
       "p[96]    0.88  0.03    0.82     0.95       0.00     0.00   1659.39  1659.39   \n",
       "p[97]    0.05  0.03    0.01     0.10       0.00     0.00   1181.07  1181.07   \n",
       "p[98]    0.02  0.01    0.00     0.05       0.00     0.00   1456.50  1456.50   \n",
       "p[99]    0.24  0.05    0.16     0.34       0.00     0.00   2261.54  2221.55   \n",
       "\n",
       "         ess_bulk  ess_tail  r_hat  \n",
       "mu_0[0]   1215.08   1007.80    NaN  \n",
       "mu_0[1]   1299.32   1100.63    NaN  \n",
       "beta[0]   1701.83   1604.28    NaN  \n",
       "beta[1]   1118.22   1229.88    NaN  \n",
       "p[0]      1335.93   1452.20    NaN  \n",
       "...           ...       ...    ...  \n",
       "p[95]     2111.93   1683.04    NaN  \n",
       "p[96]     1731.97   1401.31    NaN  \n",
       "p[97]     1151.41   1408.29    NaN  \n",
       "p[98]     1561.27   1605.56    NaN  \n",
       "p[99]     2280.41   1684.40    NaN  \n",
       "\n",
       "[104 rows x 11 columns]"
      ]
     },
     "execution_count": 28,
     "metadata": {},
     "output_type": "execute_result"
    }
   ],
   "source": [
    "start = time.time()\n",
    "with logistic_model:    \n",
    "    #samples from posterior distribution \n",
    "    trace=pm.sample(2000, tune=100, cores=num_chains, chains=num_chains, compute_convergence_checks=False)\n",
    "duration = time.time()-start\n",
    "print(duration)\n",
    "\n",
    "df = az.summary(trace, round_to=2)\n",
    "df"
   ]
  }
 ],
 "metadata": {
  "kernelspec": {
   "display_name": "Python 3",
   "language": "python",
   "name": "python3"
  },
  "language_info": {
   "codemirror_mode": {
    "name": "ipython",
    "version": 3
   },
   "file_extension": ".py",
   "mimetype": "text/x-python",
   "name": "python",
   "nbconvert_exporter": "python",
   "pygments_lexer": "ipython3",
   "version": "3.8.5"
  }
 },
 "nbformat": 4,
 "nbformat_minor": 5
}
